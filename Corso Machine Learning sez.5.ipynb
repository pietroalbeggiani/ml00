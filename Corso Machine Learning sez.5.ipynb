{
 "cells": [
  {
   "cell_type": "markdown",
   "metadata": {},
   "source": [
    "# Sezione 5: Apprendimento supervisionato: Classificazione\n",
    "\n",
    "## lezioni 31 - 34"
   ]
  },
  {
   "cell_type": "markdown",
   "metadata": {},
   "source": [
    "#### Classificazione binomiale\n",
    "\n",
    "##### (video introduttivo lezione 31)"
   ]
  },
  {
   "cell_type": "markdown",
   "metadata": {},
   "source": [
    "Nella classificazione il target non è una variabile continua, ma categorica, quindi per prima cosa eseguiamo un encoding della variabile, come avremmo fatto con una proprietà. In questo modo le classi target sono rappresentate da due numeri: 0 e 1 \n",
    "Avendo solo due classi, il problema che andremo ad affrontare è una Classificazione binomiale. in realtà la classe che andremo ad classificare è la classe 1, mentre l'altra classe è riconosciuta come l'assenza dalla classe positiva.\n",
    "\n",
    "Lo scopo di un algoritmo di classificazione è di individuare la retta che meglio riesce a separare le due classi sul grafico( distribuiamo le osservazioni su un grafico, inserendo le due proprieta sui due assi, e identificando la classe di appartenenza con un colore). Questa retta è chiamata Decision Boundary, ovvero confine di decisione.\n",
    "Questa retta è identificata dall'equazione:  b + w1x1 + w2x2 = 0\n",
    "dove b e w sono rispettivamente bias e pesi del nostro modello. Una volta trovati bias e pesi validi, potremmo eseguire la nostra predizione come avevamo fatto per la predizione. Eseguendo la classificazione, troviamo un valore z che avrà valore >=0 se il punto che abbiamo provato a classificare si trova al di sopra della retta, e <0 se si trova al disotto (z = b + w1x1 + w2x2).\n",
    "Abbiamo un altro problema: z è una variabile continua ma a noi serve ottenere una variabile categorica per sapere a quale dell due classi appartiene il punto.\n",
    "Per ottenerla dobbiamo aggiungere un ulteriore step per problemi di classificazione:\n",
    "L'applicazione di una funzione di attivazione: quello che fa una funzione di attivazione è prendere il valore z ritornato dalla funzione che ha trovato il nostro modello, e restituire la classe corrispondente.\n",
    "La funzione di attivazione più semplice è quella che restituisce 1 se z>=0, altrimenti 0.\n",
    "Vediamo questo ulteriore passaggio: La funzione appresa dal modello di classificazione ritorna un valore z. Questa z sarà un valore continuo il cui range va da -infinito a +infinito. Per ottenere la classe di appartenenza da z bisogna applicare la funzione di attivazione, che prende in input z e restituisce la classe di appartenenza, ovvero 0 o 1.\n",
    "\n",
    "I punti che sono piu vicini alla retta Decision Boundary hanno un grado di incertezza maggiore rispetto ai punti più lontani dalla retta (ovvero sono meno certo che quel punto appartenga effettivamente all classe che il modello gli ha assegnato, dato che una piccola variazione li potrebbe portare dall'altra parte della retta).\n",
    "z contiene questa informazione, sulla vicinanza alla decision boundary, ma quando applichiamo la funzione di attivazione perdiamo l'informazione, e otterremo solo degli 0 e degli 1, senza sapere che probabilita ha ognuno di essi di essere corretto.\n",
    "Eppure cìè un modo per farlo, con un modello di classificazione noto come Regressione Logistica.\n",
    "Prima di parlare nel dettaglio della regressione logistica viene fatto un piccolo ripasso di probabilita condiizonata che aiuta a capire il funzionamento della regressione logistica..."
   ]
  },
  {
   "cell_type": "markdown",
   "metadata": {},
   "source": [
    "### Regressione logistica in Python"
   ]
  },
  {
   "cell_type": "markdown",
   "metadata": {},
   "source": [
    "Una regressione logistica è un modello di classificazione che oltre a predire la classe di appartenenza, ci restituisce anche la probabilita di quanto la predizione fatta possa essere corretta.\n",
    "Un problema di classificazione può essere ridotto nel trovare i coefficenti della retta che meglio separa gli esempi appartenenti a diverse classi.\n",
    "\n",
    "Eseguiremo la classificazione usando il dataset: Winsconsis breast cancer dataset, un dataset contenete proprieta estratte da immagini digitali di tumori al seno. Lo scopo è quello di riconoscere un tumore maligno."
   ]
  },
  {
   "cell_type": "code",
   "execution_count": 1,
   "metadata": {},
   "outputs": [],
   "source": [
    "# importiamo le librerie che ci servono per eseguire la classificazione:\n",
    "\n",
    "import pandas as pd\n",
    "import numpy as np\n",
    "import matplotlib.pyplot as plt\n",
    "from sklearn.model_selection import train_test_split\n",
    "from sklearn.preprocessing import StandardScaler\n",
    "from sklearn.preprocessing import LabelEncoder"
   ]
  },
  {
   "cell_type": "code",
   "execution_count": 2,
   "metadata": {},
   "outputs": [
    {
     "data": {
      "text/html": [
       "<div>\n",
       "<style scoped>\n",
       "    .dataframe tbody tr th:only-of-type {\n",
       "        vertical-align: middle;\n",
       "    }\n",
       "\n",
       "    .dataframe tbody tr th {\n",
       "        vertical-align: top;\n",
       "    }\n",
       "\n",
       "    .dataframe thead th {\n",
       "        text-align: right;\n",
       "    }\n",
       "</style>\n",
       "<table border=\"1\" class=\"dataframe\">\n",
       "  <thead>\n",
       "    <tr style=\"text-align: right;\">\n",
       "      <th></th>\n",
       "      <th>id</th>\n",
       "      <th>diagnosis</th>\n",
       "      <th>radius_mean</th>\n",
       "      <th>texture_mean</th>\n",
       "      <th>perimeter_mean</th>\n",
       "      <th>area_mean</th>\n",
       "      <th>smoothness_mean</th>\n",
       "      <th>compactness_mean</th>\n",
       "      <th>concavity_mean</th>\n",
       "      <th>concave points_mean</th>\n",
       "      <th>...</th>\n",
       "      <th>radius_worst</th>\n",
       "      <th>texture_worst</th>\n",
       "      <th>perimeter_worst</th>\n",
       "      <th>area_worst</th>\n",
       "      <th>smoothness_worst</th>\n",
       "      <th>compactness_worst</th>\n",
       "      <th>concavity_worst</th>\n",
       "      <th>concave points_worst</th>\n",
       "      <th>symmetry_worst</th>\n",
       "      <th>fractal_dimension_worst</th>\n",
       "    </tr>\n",
       "  </thead>\n",
       "  <tbody>\n",
       "    <tr>\n",
       "      <td>0</td>\n",
       "      <td>842302</td>\n",
       "      <td>M</td>\n",
       "      <td>17.99</td>\n",
       "      <td>10.38</td>\n",
       "      <td>122.80</td>\n",
       "      <td>1001.0</td>\n",
       "      <td>0.11840</td>\n",
       "      <td>0.27760</td>\n",
       "      <td>0.3001</td>\n",
       "      <td>0.14710</td>\n",
       "      <td>...</td>\n",
       "      <td>25.38</td>\n",
       "      <td>17.33</td>\n",
       "      <td>184.60</td>\n",
       "      <td>2019.0</td>\n",
       "      <td>0.1622</td>\n",
       "      <td>0.6656</td>\n",
       "      <td>0.7119</td>\n",
       "      <td>0.2654</td>\n",
       "      <td>0.4601</td>\n",
       "      <td>0.11890</td>\n",
       "    </tr>\n",
       "    <tr>\n",
       "      <td>1</td>\n",
       "      <td>842517</td>\n",
       "      <td>M</td>\n",
       "      <td>20.57</td>\n",
       "      <td>17.77</td>\n",
       "      <td>132.90</td>\n",
       "      <td>1326.0</td>\n",
       "      <td>0.08474</td>\n",
       "      <td>0.07864</td>\n",
       "      <td>0.0869</td>\n",
       "      <td>0.07017</td>\n",
       "      <td>...</td>\n",
       "      <td>24.99</td>\n",
       "      <td>23.41</td>\n",
       "      <td>158.80</td>\n",
       "      <td>1956.0</td>\n",
       "      <td>0.1238</td>\n",
       "      <td>0.1866</td>\n",
       "      <td>0.2416</td>\n",
       "      <td>0.1860</td>\n",
       "      <td>0.2750</td>\n",
       "      <td>0.08902</td>\n",
       "    </tr>\n",
       "    <tr>\n",
       "      <td>2</td>\n",
       "      <td>84300903</td>\n",
       "      <td>M</td>\n",
       "      <td>19.69</td>\n",
       "      <td>21.25</td>\n",
       "      <td>130.00</td>\n",
       "      <td>1203.0</td>\n",
       "      <td>0.10960</td>\n",
       "      <td>0.15990</td>\n",
       "      <td>0.1974</td>\n",
       "      <td>0.12790</td>\n",
       "      <td>...</td>\n",
       "      <td>23.57</td>\n",
       "      <td>25.53</td>\n",
       "      <td>152.50</td>\n",
       "      <td>1709.0</td>\n",
       "      <td>0.1444</td>\n",
       "      <td>0.4245</td>\n",
       "      <td>0.4504</td>\n",
       "      <td>0.2430</td>\n",
       "      <td>0.3613</td>\n",
       "      <td>0.08758</td>\n",
       "    </tr>\n",
       "    <tr>\n",
       "      <td>3</td>\n",
       "      <td>84348301</td>\n",
       "      <td>M</td>\n",
       "      <td>11.42</td>\n",
       "      <td>20.38</td>\n",
       "      <td>77.58</td>\n",
       "      <td>386.1</td>\n",
       "      <td>0.14250</td>\n",
       "      <td>0.28390</td>\n",
       "      <td>0.2414</td>\n",
       "      <td>0.10520</td>\n",
       "      <td>...</td>\n",
       "      <td>14.91</td>\n",
       "      <td>26.50</td>\n",
       "      <td>98.87</td>\n",
       "      <td>567.7</td>\n",
       "      <td>0.2098</td>\n",
       "      <td>0.8663</td>\n",
       "      <td>0.6869</td>\n",
       "      <td>0.2575</td>\n",
       "      <td>0.6638</td>\n",
       "      <td>0.17300</td>\n",
       "    </tr>\n",
       "    <tr>\n",
       "      <td>4</td>\n",
       "      <td>84358402</td>\n",
       "      <td>M</td>\n",
       "      <td>20.29</td>\n",
       "      <td>14.34</td>\n",
       "      <td>135.10</td>\n",
       "      <td>1297.0</td>\n",
       "      <td>0.10030</td>\n",
       "      <td>0.13280</td>\n",
       "      <td>0.1980</td>\n",
       "      <td>0.10430</td>\n",
       "      <td>...</td>\n",
       "      <td>22.54</td>\n",
       "      <td>16.67</td>\n",
       "      <td>152.20</td>\n",
       "      <td>1575.0</td>\n",
       "      <td>0.1374</td>\n",
       "      <td>0.2050</td>\n",
       "      <td>0.4000</td>\n",
       "      <td>0.1625</td>\n",
       "      <td>0.2364</td>\n",
       "      <td>0.07678</td>\n",
       "    </tr>\n",
       "  </tbody>\n",
       "</table>\n",
       "<p>5 rows × 32 columns</p>\n",
       "</div>"
      ],
      "text/plain": [
       "         id diagnosis  radius_mean  texture_mean  perimeter_mean  area_mean  \\\n",
       "0    842302         M        17.99         10.38          122.80     1001.0   \n",
       "1    842517         M        20.57         17.77          132.90     1326.0   \n",
       "2  84300903         M        19.69         21.25          130.00     1203.0   \n",
       "3  84348301         M        11.42         20.38           77.58      386.1   \n",
       "4  84358402         M        20.29         14.34          135.10     1297.0   \n",
       "\n",
       "   smoothness_mean  compactness_mean  concavity_mean  concave points_mean  \\\n",
       "0          0.11840           0.27760          0.3001              0.14710   \n",
       "1          0.08474           0.07864          0.0869              0.07017   \n",
       "2          0.10960           0.15990          0.1974              0.12790   \n",
       "3          0.14250           0.28390          0.2414              0.10520   \n",
       "4          0.10030           0.13280          0.1980              0.10430   \n",
       "\n",
       "   ...  radius_worst  texture_worst  perimeter_worst  area_worst  \\\n",
       "0  ...         25.38          17.33           184.60      2019.0   \n",
       "1  ...         24.99          23.41           158.80      1956.0   \n",
       "2  ...         23.57          25.53           152.50      1709.0   \n",
       "3  ...         14.91          26.50            98.87       567.7   \n",
       "4  ...         22.54          16.67           152.20      1575.0   \n",
       "\n",
       "   smoothness_worst  compactness_worst  concavity_worst  concave points_worst  \\\n",
       "0            0.1622             0.6656           0.7119                0.2654   \n",
       "1            0.1238             0.1866           0.2416                0.1860   \n",
       "2            0.1444             0.4245           0.4504                0.2430   \n",
       "3            0.2098             0.8663           0.6869                0.2575   \n",
       "4            0.1374             0.2050           0.4000                0.1625   \n",
       "\n",
       "   symmetry_worst  fractal_dimension_worst  \n",
       "0          0.4601                  0.11890  \n",
       "1          0.2750                  0.08902  \n",
       "2          0.3613                  0.08758  \n",
       "3          0.6638                  0.17300  \n",
       "4          0.2364                  0.07678  \n",
       "\n",
       "[5 rows x 32 columns]"
      ]
     },
     "execution_count": 2,
     "metadata": {},
     "output_type": "execute_result"
    }
   ],
   "source": [
    "# e importiamo il dataset:\n",
    "\n",
    "breast_cancer = pd.read_csv(\"https://archive.ics.uci.edu/ml/machine-learning-databases/breast-cancer-wisconsin/wdbc.data\",\n",
    "                           names=[\"id\",\"diagnosis\",\"radius_mean\",\"texture_mean\",\"perimeter_mean\",\"area_mean\",\n",
    "                                  \"smoothness_mean\",\"compactness_mean\",\"concavity_mean\",\"concave points_mean\",\n",
    "                                  \"symmetry_mean\",\"fractal_dimension_mean\",\"radius_se\",\"texture_se\",\"perimeter_se\",\n",
    "                                  \"area_se\",\"smoothness_se\",\"compactness_se\",\"concavity_se\",\"concave points_se\",\n",
    "                                  \"symmetry_se\",\"fractal_dimension_se\",\"radius_worst\",\"texture_worst\",\"perimeter_worst\",\n",
    "                                  \"area_worst\",\"smoothness_worst\",\"compactness_worst\",\"concavity_worst\",\"concave points_worst\",\n",
    "                                  \"symmetry_worst\",\"fractal_dimension_worst\"])\n",
    "\n",
    "breast_cancer.head()"
   ]
  },
  {
   "cell_type": "code",
   "execution_count": 3,
   "metadata": {
    "scrolled": true
   },
   "outputs": [
    {
     "name": "stdout",
     "output_type": "stream",
     "text": [
      "<class 'pandas.core.frame.DataFrame'>\n",
      "RangeIndex: 569 entries, 0 to 568\n",
      "Data columns (total 32 columns):\n",
      "id                         569 non-null int64\n",
      "diagnosis                  569 non-null object\n",
      "radius_mean                569 non-null float64\n",
      "texture_mean               569 non-null float64\n",
      "perimeter_mean             569 non-null float64\n",
      "area_mean                  569 non-null float64\n",
      "smoothness_mean            569 non-null float64\n",
      "compactness_mean           569 non-null float64\n",
      "concavity_mean             569 non-null float64\n",
      "concave points_mean        569 non-null float64\n",
      "symmetry_mean              569 non-null float64\n",
      "fractal_dimension_mean     569 non-null float64\n",
      "radius_se                  569 non-null float64\n",
      "texture_se                 569 non-null float64\n",
      "perimeter_se               569 non-null float64\n",
      "area_se                    569 non-null float64\n",
      "smoothness_se              569 non-null float64\n",
      "compactness_se             569 non-null float64\n",
      "concavity_se               569 non-null float64\n",
      "concave points_se          569 non-null float64\n",
      "symmetry_se                569 non-null float64\n",
      "fractal_dimension_se       569 non-null float64\n",
      "radius_worst               569 non-null float64\n",
      "texture_worst              569 non-null float64\n",
      "perimeter_worst            569 non-null float64\n",
      "area_worst                 569 non-null float64\n",
      "smoothness_worst           569 non-null float64\n",
      "compactness_worst          569 non-null float64\n",
      "concavity_worst            569 non-null float64\n",
      "concave points_worst       569 non-null float64\n",
      "symmetry_worst             569 non-null float64\n",
      "fractal_dimension_worst    569 non-null float64\n",
      "dtypes: float64(30), int64(1), object(1)\n",
      "memory usage: 142.4+ KB\n"
     ]
    }
   ],
   "source": [
    "breast_cancer.info()"
   ]
  },
  {
   "cell_type": "markdown",
   "metadata": {},
   "source": [
    "ci sono 569 esempi e 32 colonne: quindi 31 proprieta e un target. Il target è diagnosis.\n"
   ]
  },
  {
   "cell_type": "code",
   "execution_count": 4,
   "metadata": {},
   "outputs": [
    {
     "data": {
      "text/plain": [
       "array(['M', 'B'], dtype=object)"
      ]
     },
     "execution_count": 4,
     "metadata": {},
     "output_type": "execute_result"
    }
   ],
   "source": [
    "#Vediamo quali sono le classi da classificare:\n",
    "\n",
    "breast_cancer[\"diagnosis\"].unique()"
   ]
  },
  {
   "cell_type": "markdown",
   "metadata": {},
   "source": [
    "Le classi sono 2: M sta per maligno e B per benigno."
   ]
  },
  {
   "cell_type": "markdown",
   "metadata": {},
   "source": [
    "Cominciamo eseguendo una classificazione usando solo due proprieta: radius_se, che è l'errore standard del raggio del tumore,e concave points_worst, che rappresenta il numero peggiore di punti di concavita nel contorno del tumore."
   ]
  },
  {
   "cell_type": "code",
   "execution_count": 5,
   "metadata": {},
   "outputs": [],
   "source": [
    "# iniziamo creando gli array numpy:\n",
    "\n",
    "X = breast_cancer[[\"radius_se\",\"concave points_worst\"]].values\n",
    "Y = breast_cancer['diagnosis'].values\n",
    "\n"
   ]
  },
  {
   "cell_type": "code",
   "execution_count": 6,
   "metadata": {},
   "outputs": [],
   "source": [
    "# e creiamo i due set di addestramento e di test:\n",
    "\n",
    "X_train, X_test, Y_train, Y_test = train_test_split(X,Y, test_size=0.3, random_state=0)"
   ]
  },
  {
   "cell_type": "markdown",
   "metadata": {},
   "source": [
    "Come abbiamo visto le classi target sono sottoforma di caratteri, quindi dovremmo trasformarle in numeri.\n",
    "In realta questo passaggio si portebbe saltare perche la regressione logistica di SciKitLearn riesce a classificare anche taget non numerici. Noi comunque lo facciamo, usando il Label Encoder:\n"
   ]
  },
  {
   "cell_type": "code",
   "execution_count": 7,
   "metadata": {},
   "outputs": [],
   "source": [
    "le = LabelEncoder()\n",
    "Y_train = le.fit_transform(Y_train)\n",
    "Y_test = le.transform(Y_test)"
   ]
  },
  {
   "cell_type": "code",
   "execution_count": 8,
   "metadata": {},
   "outputs": [
    {
     "data": {
      "text/plain": [
       "array([0, 0, 0, 1, 0])"
      ]
     },
     "execution_count": 8,
     "metadata": {},
     "output_type": "execute_result"
    }
   ],
   "source": [
    "# diamo uno sguardo ai primi valori, per vedere se sono numeri...\n",
    "\n",
    "Y_train[:5]"
   ]
  },
  {
   "cell_type": "markdown",
   "metadata": {},
   "source": [
    "Adesso dobbiamo standardizzare il dataset: \n",
    "utiliziamo Standard.Scaler"
   ]
  },
  {
   "cell_type": "code",
   "execution_count": 9,
   "metadata": {},
   "outputs": [],
   "source": [
    "ss = StandardScaler()\n",
    "X_train = ss.fit_transform(X_train)\n",
    "X_test = ss.transform(X_test)"
   ]
  },
  {
   "cell_type": "markdown",
   "metadata": {},
   "source": [
    "ora possiamo eseguire la nostra regressione logistica:\n"
   ]
  },
  {
   "cell_type": "code",
   "execution_count": 10,
   "metadata": {},
   "outputs": [],
   "source": [
    "# importiamo la classe da scikitlearn:\n",
    "\n",
    "from sklearn.linear_model import LogisticRegression\n",
    "\n",
    "# instanziamo la classe:\n",
    "\n",
    "lr = LogisticRegression()"
   ]
  },
  {
   "cell_type": "code",
   "execution_count": 11,
   "metadata": {},
   "outputs": [
    {
     "name": "stderr",
     "output_type": "stream",
     "text": [
      "C:\\ProgramData\\Anaconda3\\lib\\site-packages\\sklearn\\linear_model\\logistic.py:432: FutureWarning: Default solver will be changed to 'lbfgs' in 0.22. Specify a solver to silence this warning.\n",
      "  FutureWarning)\n"
     ]
    },
    {
     "data": {
      "text/plain": [
       "LogisticRegression(C=1.0, class_weight=None, dual=False, fit_intercept=True,\n",
       "                   intercept_scaling=1, l1_ratio=None, max_iter=100,\n",
       "                   multi_class='warn', n_jobs=None, penalty='l2',\n",
       "                   random_state=None, solver='warn', tol=0.0001, verbose=0,\n",
       "                   warm_start=False)"
      ]
     },
     "execution_count": 11,
     "metadata": {},
     "output_type": "execute_result"
    }
   ],
   "source": [
    "# e addestriamola sul trainset:\n",
    "\n",
    "lr.fit(X_train, Y_train)"
   ]
  },
  {
   "cell_type": "markdown",
   "metadata": {},
   "source": [
    "adesso abbiamo il nostro modello e possiamo testarlo.\n",
    "Per farlo usiamo due metriche:\n",
    "Accuracy: che ci dice che percentuale delle predizioni fatte sono corrette\n",
    "LogLikelyhood: tiene conto anche della probabilita di quanto la predizione fatta sia corretta.\n",
    "\n",
    "scikitlearn implementa la negativa della loglikelyhood e quindi un valore minore di questa metrica indica una qualita del modello maggiore.\n"
   ]
  },
  {
   "cell_type": "code",
   "execution_count": 12,
   "metadata": {},
   "outputs": [],
   "source": [
    "#importiamo le due funzioni: \n",
    "from sklearn.metrics import accuracy_score\n",
    "from sklearn.metrics import log_loss"
   ]
  },
  {
   "cell_type": "code",
   "execution_count": 13,
   "metadata": {},
   "outputs": [],
   "source": [
    "# eseguiamo le predizioni sul testset:\n",
    "\n",
    "Y_pred = lr.predict(X_test)"
   ]
  },
  {
   "cell_type": "code",
   "execution_count": 14,
   "metadata": {},
   "outputs": [],
   "source": [
    "# e otteniamo anche la probabilita di quanto una predizione sia corretta usando il metodo .predict_proba:\n",
    "\n",
    "Y_pred_proba = lr.predict_proba(X_test)\n"
   ]
  },
  {
   "cell_type": "code",
   "execution_count": 15,
   "metadata": {},
   "outputs": [
    {
     "name": "stdout",
     "output_type": "stream",
     "text": [
      "ACCURACY= 0.9064327485380117\n",
      "LOG LOSS= 0.21553789916301572\n"
     ]
    }
   ],
   "source": [
    "# e stampiamo le metriche:\n",
    "\n",
    "print(\"ACCURACY= \" + str(accuracy_score(Y_test, Y_pred)))\n",
    "print(\"LOG LOSS= \" + str(log_loss(Y_test, Y_pred_proba)))"
   ]
  },
  {
   "cell_type": "markdown",
   "metadata": {},
   "source": [
    "considerando che abbiamo usato solo due proprieta i risultati non sono male, infatti l'accuracy va da 0 a 1: 0 indica che le predizioni effettuate sono tutte sbagliate e 1 che sono tutte corrette. Noi abbiamo accuracy=0.9\n",
    "Mentra log loss va da 0 a 1, con 0 punteggio migliore. Noi abbiamo ottenuto log loss=0.21"
   ]
  },
  {
   "cell_type": "markdown",
   "metadata": {},
   "source": [
    "Proviamo a visualizzare il decision boundary, ovvero il confine di decisoine che il nostro modello ha appreso.\n",
    "Per farlo si usa una funzione abbastanza complicata, quindi ora la usiamo senza approfondirla, ma nel notebook relativo alla lezione ci sono approfondimenti.\n"
   ]
  },
  {
   "cell_type": "code",
   "execution_count": 16,
   "metadata": {},
   "outputs": [],
   "source": [
    "#defianiamo la funzione showBounds:\n",
    "\n",
    "def showBounds(model, X, Y, labels=[\"Negativo\",\"Positivo\"]):\n",
    "    \n",
    "    h = .02 \n",
    "\n",
    "    x_min, x_max = X[:, 0].min(), X[:, 0].max()\n",
    "    y_min, y_max = X[:, 1].min(), X[:, 1].max()\n",
    "\n",
    "    xx, yy = np.meshgrid(np.arange(x_min, x_max, h),\n",
    "                         np.arange(y_min, y_max, h))\n",
    "\n",
    "    Z = model.predict(np.c_[xx.ravel(), yy.ravel()])\n",
    "\n",
    "    Z = Z.reshape(xx.shape)\n",
    "    plt.contourf(xx, yy, Z, cmap=plt.cm.Paired)\n",
    "\n",
    "    X_m = X[Y==1]\n",
    "    X_b = X[Y==0]\n",
    "    plt.scatter(X_b[:, 0], X_b[:, 1], c=\"green\",  edgecolor='white', label=labels[0])\n",
    "    plt.scatter(X_m[:, 0], X_m[:, 1], c=\"red\",  edgecolor='white', label=labels[1])\n",
    "    plt.legend()"
   ]
  },
  {
   "cell_type": "code",
   "execution_count": 17,
   "metadata": {},
   "outputs": [
    {
     "data": {
      "image/png": "[encoded data removed]",
      "text/plain": [
       "<Figure size 432x288 with 1 Axes>"
      ]
     },
     "metadata": {
      "needs_background": "light"
     },
     "output_type": "display_data"
    }
   ],
   "source": [
    "showBounds(lr, X_train, Y_train, labels=[\"Benigno\", \"Maligno\"])"
   ]
  },
  {
   "cell_type": "markdown",
   "metadata": {},
   "source": [
    "Il modello è riuscito a dividere abbastanza bene un tumore benigno da uno maligno per quanto riguarda il trainset.\n",
    "Vediamo come va per il testset:"
   ]
  },
  {
   "cell_type": "code",
   "execution_count": 18,
   "metadata": {},
   "outputs": [
    {
     "data": {
      "image/png": "[encoded data removed]",
      "text/plain": [
       "<Figure size 432x288 with 1 Axes>"
      ]
     },
     "metadata": {
      "needs_background": "light"
     },
     "output_type": "display_data"
    }
   ],
   "source": [
    "showBounds(lr, X_test, Y_test, labels=[\"Benigno\", \"Maligno\"])"
   ]
  },
  {
   "cell_type": "markdown",
   "metadata": {},
   "source": [
    "Anche sul testset le performance sono abbastanza buone. Il decision boundary potrebbe sembrare diverso, ma in realta è lo stesso, quello che è cambiato è la scala in cui sono rappresentati i dati."
   ]
  },
  {
   "cell_type": "markdown",
   "metadata": {},
   "source": [
    "Ora proviamo a rieseguire la classificazione usando tutte le proprieta del dataset, eccetto la \"id\", che contiene un identificativo univoco dell'immagine digitale caricata nel dataset, e quindi non da nessuna informazione al nostro modello"
   ]
  },
  {
   "cell_type": "code",
   "execution_count": 19,
   "metadata": {},
   "outputs": [],
   "source": [
    "# creaimo gli array numpy:\n",
    "X = breast_cancer.drop([\"id\",\"diagnosis\"], axis=1).values\n",
    "Y = breast_cancer[\"diagnosis\"].values"
   ]
  },
  {
   "cell_type": "code",
   "execution_count": 20,
   "metadata": {},
   "outputs": [
    {
     "name": "stderr",
     "output_type": "stream",
     "text": [
      "C:\\ProgramData\\Anaconda3\\lib\\site-packages\\sklearn\\linear_model\\logistic.py:432: FutureWarning: Default solver will be changed to 'lbfgs' in 0.22. Specify a solver to silence this warning.\n",
      "  FutureWarning)\n"
     ]
    },
    {
     "data": {
      "text/plain": [
       "LogisticRegression(C=1.0, class_weight=None, dual=False, fit_intercept=True,\n",
       "                   intercept_scaling=1, l1_ratio=None, max_iter=100,\n",
       "                   multi_class='warn', n_jobs=None, penalty='l2',\n",
       "                   random_state=None, solver='warn', tol=0.0001, verbose=0,\n",
       "                   warm_start=False)"
      ]
     },
     "execution_count": 20,
     "metadata": {},
     "output_type": "execute_result"
    }
   ],
   "source": [
    "# per tutto il resto possiamo semplcmente copiare il codice di sopra:\n",
    "\n",
    "X_train, X_test, Y_train, Y_test = train_test_split(X,Y, test_size=0.3, random_state=0)\n",
    "\n",
    "le = LabelEncoder()\n",
    "Y_train = le.fit_transform(Y_train)\n",
    "Y_test = le.transform(Y_test)\n",
    "\n",
    "ss = StandardScaler()\n",
    "X_train = ss.fit_transform(X_train)\n",
    "X_test = ss.transform(X_test)\n",
    "\n",
    "lr = LogisticRegression()\n",
    "lr.fit(X_train, Y_train)\n",
    "\n"
   ]
  },
  {
   "cell_type": "code",
   "execution_count": 21,
   "metadata": {},
   "outputs": [
    {
     "name": "stdout",
     "output_type": "stream",
     "text": [
      "ACCURACY= 0.9766081871345029\n",
      "LOG LOSS= 0.08937194803422048\n"
     ]
    }
   ],
   "source": [
    "Y_pred = lr.predict(X_test)\n",
    "\n",
    "Y_pred_proba = lr.predict_proba(X_test)\n",
    "\n",
    "print(\"ACCURACY= \" + str(accuracy_score(Y_test, Y_pred)))\n",
    "print(\"LOG LOSS= \" + str(log_loss(Y_test, Y_pred_proba)))\n",
    "\n"
   ]
  },
  {
   "cell_type": "markdown",
   "metadata": {},
   "source": [
    "i risultati sono migliori rispetto al caso precedente, perche un modello con piu informazioni è sempre un modello migliore\n",
    "\n",
    "Ora ci possiamo chiedere: e se volessimo implementare la regolarizzazione in un modello di regressione logistica?\n",
    "In realta lo abbiamo gia fatto senza saperlo, perche la regressione logistica implementa 2 parametri:\n",
    "penalty: con cui possiamo scegleiere il tipo di regolarizzazione da applicare: l2 o l1\n",
    "c: è l'inverso del parametro di regolarizzazione Lambda (o alpha). un valore maggioire di c rendera la regolarizzazione piu debole, mente un valore basso la rafforzera.\n",
    "Di default questi parametri sono impostati su l2 e 1, quindi non specificandoli la nostra regressione logistica implementa una regolarizzazione l2 e c=1, quindi lambda=1"
   ]
  },
  {
   "cell_type": "markdown",
   "metadata": {},
   "source": [
    "### Classificazione multiclasse:\n",
    "#### classificazione quando il dataset contiene piu di due classi target.\n",
    "\n",
    "Classificazione One vs All (OvA):\n",
    "ci permette di affrontare un problema di classificazione multiclasse come piu classificazioni binarie. Consiste nel creare un modello di classificzione per ognuna delle classi utilizzando gli esempi di una classe come positivi e quelli di tutte le altre come negativi. Ogni modello sara in grado di predire una classe, e ad ogni predizione è associata una probabilita. Prendimo per buona quella con la probabilita piu alta.\n",
    "\n",
    "Ora eseguiamo una classificazione multiclasse con la tecnica OvA in Python:\n",
    "usiamo un dataset di cifre scritte a mano, e il nostro obiettivo è di riuscire a riconoscere tale numero:"
   ]
  },
  {
   "cell_type": "code",
   "execution_count": 22,
   "metadata": {},
   "outputs": [],
   "source": [
    "# importiamo le librerie necessarie\n",
    "\n",
    "import pandas as pd\n",
    "import numpy as np\n",
    "import matplotlib.pyplot as plt\n",
    "\n",
    "from sklearn.model_selection import train_test_split\n",
    "from sklearn.preprocessing import StandardScaler\n",
    "\n",
    "from sklearn.linear_model import LogisticRegression\n",
    "from sklearn.metrics import log_loss\n",
    "from sklearn.metrics import accuracy_score\n",
    "\n",
    "%matplotlib inline\n",
    "\n",
    "# e importiamo la funzione che ci permettera di caricare il dataset di esempio direttamente da scikitlearn:\n",
    "\n",
    "from sklearn.datasets import load_digits\n"
   ]
  },
  {
   "cell_type": "code",
   "execution_count": 23,
   "metadata": {},
   "outputs": [],
   "source": [
    "#e carichiamo il nostro dataset:\n",
    "\n",
    "digits = load_digits()"
   ]
  },
  {
   "cell_type": "code",
   "execution_count": 24,
   "metadata": {},
   "outputs": [],
   "source": [
    "# creiamo gli array numpy per propieta e target:\n",
    "\n",
    "X = digits.data\n",
    "Y = digits.target"
   ]
  },
  {
   "cell_type": "code",
   "execution_count": 25,
   "metadata": {},
   "outputs": [
    {
     "data": {
      "text/plain": [
       "(1797, 64)"
      ]
     },
     "execution_count": 25,
     "metadata": {},
     "output_type": "execute_result"
    }
   ],
   "source": [
    "# diamogli uno sguardo:\n",
    "X.shape"
   ]
  },
  {
   "cell_type": "markdown",
   "metadata": {},
   "source": [
    "Il dataset contiene 1797 osservazioni e 64 proprieta:\n",
    "ogni proprieta rappresenta un pizel dell'immagine, infatti le immagini originarie erano in formato 8x8 e in scala di grigi, quindi ogni proprieta avra un valore omoreso fra 0 e 255, in base all'intensita del grigio.\n",
    "\n"
   ]
  },
  {
   "cell_type": "code",
   "execution_count": 26,
   "metadata": {},
   "outputs": [
    {
     "data": {
      "text/plain": [
       "array([0, 1, 2, 3, 4, 5, 6, 7, 8, 9])"
      ]
     },
     "execution_count": 26,
     "metadata": {},
     "output_type": "execute_result"
    }
   ],
   "source": [
    "# Diamo uno sguardo alle classi:\n",
    "\n",
    "np.unique(Y)"
   ]
  },
  {
   "cell_type": "markdown",
   "metadata": {},
   "source": [
    " Abbiamo 9 classi, da 0 a 9, cherappresentano il numero figurato nell'immagine."
   ]
  },
  {
   "cell_type": "markdown",
   "metadata": {},
   "source": [
    "Proviamo a visualizzare un esempio di immagini per ognuna delle classi, per farlo possiamo usare la funzione imshow di matplotlib che ci permette di visualizzare un immagine partend da una matrice di pixel:\n"
   ]
  },
  {
   "cell_type": "code",
   "execution_count": 27,
   "metadata": {},
   "outputs": [
    {
     "data": {
      "image/png": "[encoded data removed]",
      "text/plain": [
       "<Figure size 432x288 with 1 Axes>"
      ]
     },
     "metadata": {
      "needs_background": "light"
     },
     "output_type": "display_data"
    },
    {
     "data": {
      "image/png": "[encoded data removed]",
      "text/plain": [
       "<Figure size 432x288 with 1 Axes>"
      ]
     },
     "metadata": {
      "needs_background": "light"
     },
     "output_type": "display_data"
    },
    {
     "data": {
      "image/png": "[encoded data removed]",
      "text/plain": [
       "<Figure size 432x288 with 1 Axes>"
      ]
     },
     "metadata": {
      "needs_background": "light"
     },
     "output_type": "display_data"
    },
    {
     "data": {
      "image/png": "[encoded data removed]",
      "text/plain": [
       "<Figure size 432x288 with 1 Axes>"
      ]
     },
     "metadata": {
      "needs_background": "light"
     },
     "output_type": "display_data"
    },
    {
     "data": {
      "image/png": "[encoded data removed]",
      "text/plain": [
       "<Figure size 432x288 with 1 Axes>"
      ]
     },
     "metadata": {
      "needs_background": "light"
     },
     "output_type": "display_data"
    },
    {
     "data": {
      "image/png": "[encoded data removed]",
      "text/plain": [
       "<Figure size 432x288 with 1 Axes>"
      ]
     },
     "metadata": {
      "needs_background": "light"
     },
     "output_type": "display_data"
    },
    {
     "data": {
      "image/png": "[encoded data removed]",
      "text/plain": [
       "<Figure size 432x288 with 1 Axes>"
      ]
     },
     "metadata": {
      "needs_background": "light"
     },
     "output_type": "display_data"
    },
    {
     "data": {
      "image/png": "[encoded data removed]",
      "text/plain": [
       "<Figure size 432x288 with 1 Axes>"
      ]
     },
     "metadata": {
      "needs_background": "light"
     },
     "output_type": "display_data"
    },
    {
     "data": {
      "image/png": "[encoded data removed]",
      "text/plain": [
       "<Figure size 432x288 with 1 Axes>"
      ]
     },
     "metadata": {
      "needs_background": "light"
     },
     "output_type": "display_data"
    },
    {
     "data": {
      "image/png": "[encoded data removed]",
      "text/plain": [
       "<Figure size 432x288 with 1 Axes>"
      ]
     },
     "metadata": {
      "needs_background": "light"
     },
     "output_type": "display_data"
    }
   ],
   "source": [
    "# facciamo un ciclo for per i che va da 0 a 10, ovvero per ognuna delle nostre classi:\n",
    "\n",
    "for i in range(0,10):\n",
    "    pic_matrix = X[Y==i][0].reshape([8,8])  # prendiamo una matrice X, gli applichiamo una maschera che gli dice\n",
    "                                            # di selezionare tutti i valori appartenenti alla classe i, \n",
    "                                            #ovvero alla classe corrente, e di questi selezioniamo il primo,e usiamo \n",
    "                                            #reshape per ottenere la matrice 8x8\n",
    "    plt.imshow(pic_matrix, cmap = \"gray\")   #possiamo usare la funzione imshow passando la matrice e specificando\n",
    "                                            #che è un immagine in scala di grigi\n",
    "    plt.show()                              # e visualizziamo le immagini."
   ]
  },
  {
   "cell_type": "code",
   "execution_count": 28,
   "metadata": {},
   "outputs": [],
   "source": [
    "#Ora creiamo i nostri set per addestramento, trainset, e test, testset:\n",
    "\n",
    "X_train, X_test, Y_train, Y_test = train_test_split(X,Y, test_size = 0.3, random_state = 0)\n",
    "\n",
    "# tratandosi di immagini cnviene normalizzare le colonne in modo da avere distribuzioni normali di valori\n",
    "#che va da 0 a 1, piuttosto che da 0 a 255.\n",
    "#Questo facilita molto la fase di addestramento.\n",
    "    \n",
    "#Quindi importiamo la classe minmaxscaler:\n",
    "\n",
    "from sklearn.preprocessing import MinMaxScaler"
   ]
  },
  {
   "cell_type": "code",
   "execution_count": 29,
   "metadata": {},
   "outputs": [],
   "source": [
    "# la instanziamo:\n",
    "mms = MinMaxScaler()\n",
    "\n",
    "X_train = mms.fit_transform(X_train)\n",
    "X_test = mms.transform(X_test)\n"
   ]
  },
  {
   "cell_type": "markdown",
   "metadata": {},
   "source": [
    "Ora possiamo eseguire la classificazione multiclasse:\n",
    "non dobbiamo fare nulla di piu che eseguire una regressione logistica, infatti la classe logistic regression di scikitlearn è in grado di riconoscere un problema di classificazione multiclasse e automaticamente applicare il metodo One vs All:\n"
   ]
  },
  {
   "cell_type": "code",
   "execution_count": 30,
   "metadata": {},
   "outputs": [
    {
     "name": "stderr",
     "output_type": "stream",
     "text": [
      "C:\\ProgramData\\Anaconda3\\lib\\site-packages\\sklearn\\linear_model\\logistic.py:432: FutureWarning: Default solver will be changed to 'lbfgs' in 0.22. Specify a solver to silence this warning.\n",
      "  FutureWarning)\n",
      "C:\\ProgramData\\Anaconda3\\lib\\site-packages\\sklearn\\linear_model\\logistic.py:469: FutureWarning: Default multi_class will be changed to 'auto' in 0.22. Specify the multi_class option to silence this warning.\n",
      "  \"this warning.\", FutureWarning)\n"
     ]
    },
    {
     "data": {
      "text/plain": [
       "LogisticRegression(C=1.0, class_weight=None, dual=False, fit_intercept=True,\n",
       "                   intercept_scaling=1, l1_ratio=None, max_iter=100,\n",
       "                   multi_class='warn', n_jobs=None, penalty='l2',\n",
       "                   random_state=None, solver='warn', tol=0.0001, verbose=0,\n",
       "                   warm_start=False)"
      ]
     },
     "execution_count": 30,
     "metadata": {},
     "output_type": "execute_result"
    }
   ],
   "source": [
    "lr = LogisticRegression()\n",
    "lr.fit(X_train,Y_train)"
   ]
  },
  {
   "cell_type": "code",
   "execution_count": 31,
   "metadata": {},
   "outputs": [],
   "source": [
    "# Abbiamo il nostro modello. \n",
    "# Calcoliamone la qualita calcolando l'accuracy e il logloss:\n",
    "Y_pred = lr.predict(X_test)\n",
    "Y_pred_proba = lr.predict_proba(X_test)\n"
   ]
  },
  {
   "cell_type": "code",
   "execution_count": 32,
   "metadata": {},
   "outputs": [
    {
     "name": "stdout",
     "output_type": "stream",
     "text": [
      "ACCURACY= 0.9574074074074074\n",
      "LOG LOSS= 0.23627626645272895\n"
     ]
    }
   ],
   "source": [
    "print(\"ACCURACY= \" + str(accuracy_score(Y_test,Y_pred)))\n",
    "print(\"LOG LOSS= \" + str(log_loss(Y_test,Y_pred_proba)))"
   ]
  },
  {
   "cell_type": "markdown",
   "metadata": {},
   "source": [
    "Introduciamo una nuova metrice, molto utile per la classificazione, e soprattutto nei casi di classificazione multiclasse:\n",
    "La matrice di confusione, che ci permette di vedere su quali classi il nostro modello ha commesso piu errori:\n"
   ]
  },
  {
   "cell_type": "code",
   "execution_count": 33,
   "metadata": {},
   "outputs": [
    {
     "data": {
      "text/plain": [
       "array([[45,  0,  0,  0,  0,  0,  0,  0,  0,  0],\n",
       "       [ 0, 49,  0,  0,  0,  0,  1,  0,  2,  0],\n",
       "       [ 0,  1, 51,  0,  0,  0,  0,  1,  0,  0],\n",
       "       [ 0,  0,  0, 51,  0,  0,  0,  0,  2,  1],\n",
       "       [ 0,  0,  0,  0, 47,  0,  0,  1,  0,  0],\n",
       "       [ 0,  0,  0,  0,  0, 54,  1,  0,  0,  2],\n",
       "       [ 0,  1,  0,  0,  0,  0, 59,  0,  0,  0],\n",
       "       [ 0,  0,  0,  0,  2,  0,  0, 51,  0,  0],\n",
       "       [ 0,  1,  1,  1,  0,  1,  0,  0, 56,  1],\n",
       "       [ 0,  0,  0,  0,  0,  2,  0,  0,  1, 54]], dtype=int64)"
      ]
     },
     "execution_count": 33,
     "metadata": {},
     "output_type": "execute_result"
    }
   ],
   "source": [
    "# importiamola da scikitlearn:\n",
    "\n",
    "from sklearn.metrics import confusion_matrix\n",
    "\n",
    "# e calcoliamola:\n",
    "cm = confusion_matrix(Y_test,Y_pred)\n",
    "\n",
    "# e diamogli uno sguardo:\n",
    "cm"
   ]
  },
  {
   "cell_type": "markdown",
   "metadata": {},
   "source": [
    "Questa matrice mostra come gli esempi sono stati classificati:\n",
    "le colonne rappresentano le classi predette metre le righe corrispondono alle classi corrette: \n",
    "ad esempio un valore di 2 alla quinta colonna della nona riga indica che due immagini rappresentati un 9 sono state classificate invece come un 5.\n",
    "Adesso per visualizzare questa matrice in maniera piu chiara usiamo seaborn insieme a matplotlib:"
   ]
  },
  {
   "cell_type": "code",
   "execution_count": 36,
   "metadata": {},
   "outputs": [
    {
     "data": {
      "text/plain": [
       "Text(0.5, 60.0, 'Classe predetta')"
      ]
     },
     "execution_count": 36,
     "metadata": {},
     "output_type": "execute_result"
    },
    {
     "data": {
      "image/png": "[encoded data removed]",
      "text/plain": [
       "<Figure size 648x648 with 2 Axes>"
      ]
     },
     "metadata": {
      "needs_background": "light"
     },
     "output_type": "display_data"
    }
   ],
   "source": [
    "import seaborn as sns\n",
    "\n",
    "# e una figura di dimensione 9x9:\n",
    "plt.figure(figsize=(9,9))\n",
    "# e usiamo seaborn per creare una heatmap, inserendo anche i valori all'interno dei vari quadrati:\n",
    "\n",
    "sns.heatmap(cm, annot= True)\n",
    "plt.ylabel = (\"Classe corretta\")\n",
    "plt.xlabel(\"Classe predetta\")\n",
    "\n"
   ]
  },
  {
   "cell_type": "code",
   "execution_count": 37,
   "metadata": {},
   "outputs": [
    {
     "data": {
      "text/plain": [
       "Text(0.5, 123.82799999999995, 'Classe predetta')"
      ]
     },
     "execution_count": 37,
     "metadata": {},
     "output_type": "execute_result"
    },
    {
     "data": {
      "image/png": "[encoded data removed]",
      "text/plain": [
       "<Figure size 648x648 with 2 Axes>"
      ]
     },
     "metadata": {
      "needs_background": "light"
     },
     "output_type": "display_data"
    }
   ],
   "source": [
    "# Vista cosi non è ne elegante e ne chiara. Quindi cambiamo lo schema di colori e altre cose grafiche:\n",
    "plt.figure(figsize=(9,9))\n",
    "sns.heatmap(cm, annot= True, cmap=\"Blues_r\", linewidths = 0.5, square = True)\n",
    "plt.ylabel = (\"Classe corretta\")\n",
    "plt.xlabel(\"Classe predetta\")\n"
   ]
  },
  {
   "cell_type": "markdown",
   "metadata": {},
   "source": [
    "Dalla heatmap il nostro modello effettua le classificazioni abbastanza bene.\n",
    "Nonostante la regressione logistica sia in grado di eseguire automaticamente una regressione multiclasse tramite il metodo OvA, scikitlearn implementa ache un modello che fa appositamente questo:\n"
   ]
  },
  {
   "cell_type": "code",
   "execution_count": 38,
   "metadata": {},
   "outputs": [
    {
     "name": "stderr",
     "output_type": "stream",
     "text": [
      "C:\\ProgramData\\Anaconda3\\lib\\site-packages\\sklearn\\linear_model\\logistic.py:432: FutureWarning: Default solver will be changed to 'lbfgs' in 0.22. Specify a solver to silence this warning.\n",
      "  FutureWarning)\n",
      "C:\\ProgramData\\Anaconda3\\lib\\site-packages\\sklearn\\linear_model\\logistic.py:432: FutureWarning: Default solver will be changed to 'lbfgs' in 0.22. Specify a solver to silence this warning.\n",
      "  FutureWarning)\n",
      "C:\\ProgramData\\Anaconda3\\lib\\site-packages\\sklearn\\linear_model\\logistic.py:432: FutureWarning: Default solver will be changed to 'lbfgs' in 0.22. Specify a solver to silence this warning.\n",
      "  FutureWarning)\n",
      "C:\\ProgramData\\Anaconda3\\lib\\site-packages\\sklearn\\linear_model\\logistic.py:432: FutureWarning: Default solver will be changed to 'lbfgs' in 0.22. Specify a solver to silence this warning.\n",
      "  FutureWarning)\n",
      "C:\\ProgramData\\Anaconda3\\lib\\site-packages\\sklearn\\linear_model\\logistic.py:432: FutureWarning: Default solver will be changed to 'lbfgs' in 0.22. Specify a solver to silence this warning.\n",
      "  FutureWarning)\n",
      "C:\\ProgramData\\Anaconda3\\lib\\site-packages\\sklearn\\linear_model\\logistic.py:432: FutureWarning: Default solver will be changed to 'lbfgs' in 0.22. Specify a solver to silence this warning.\n",
      "  FutureWarning)\n",
      "C:\\ProgramData\\Anaconda3\\lib\\site-packages\\sklearn\\linear_model\\logistic.py:432: FutureWarning: Default solver will be changed to 'lbfgs' in 0.22. Specify a solver to silence this warning.\n",
      "  FutureWarning)\n",
      "C:\\ProgramData\\Anaconda3\\lib\\site-packages\\sklearn\\linear_model\\logistic.py:432: FutureWarning: Default solver will be changed to 'lbfgs' in 0.22. Specify a solver to silence this warning.\n",
      "  FutureWarning)\n",
      "C:\\ProgramData\\Anaconda3\\lib\\site-packages\\sklearn\\linear_model\\logistic.py:432: FutureWarning: Default solver will be changed to 'lbfgs' in 0.22. Specify a solver to silence this warning.\n",
      "  FutureWarning)\n",
      "C:\\ProgramData\\Anaconda3\\lib\\site-packages\\sklearn\\linear_model\\logistic.py:432: FutureWarning: Default solver will be changed to 'lbfgs' in 0.22. Specify a solver to silence this warning.\n",
      "  FutureWarning)\n"
     ]
    },
    {
     "data": {
      "text/plain": [
       "OneVsRestClassifier(estimator=LogisticRegression(C=1.0, class_weight=None,\n",
       "                                                 dual=False, fit_intercept=True,\n",
       "                                                 intercept_scaling=1,\n",
       "                                                 l1_ratio=None, max_iter=100,\n",
       "                                                 multi_class='warn',\n",
       "                                                 n_jobs=None, penalty='l2',\n",
       "                                                 random_state=None,\n",
       "                                                 solver='warn', tol=0.0001,\n",
       "                                                 verbose=0, warm_start=False),\n",
       "                    n_jobs=None)"
      ]
     },
     "execution_count": 38,
     "metadata": {},
     "output_type": "execute_result"
    }
   ],
   "source": [
    "from sklearn.multiclass import OneVsRestClassifier\n",
    "# per usare questo modello bisogna passargli un classificatore di base che poi lui usera automaticamente,\n",
    "#e poi possiamo usarelo come un qualsiasi altro modello\n",
    "\n",
    "ovr = OneVsRestClassifier(LogisticRegression())\n",
    "ovr.fit(X_train, Y_train)\n",
    "\n"
   ]
  },
  {
   "cell_type": "code",
   "execution_count": 39,
   "metadata": {},
   "outputs": [
    {
     "name": "stdout",
     "output_type": "stream",
     "text": [
      "ACCURACY= 0.9574074074074074\n",
      "LOG LOSS= 0.23627626752415712\n"
     ]
    }
   ],
   "source": [
    "# Vediamo le performance del modello attraverso le metriche:\n",
    "\n",
    "Y_pred = ovr.predict(X_test)\n",
    "Y_pred_proba  = ovr.predict_proba(X_test)\n",
    "\n",
    "print(\"ACCURACY= \" + str(accuracy_score(Y_test, Y_pred)))\n",
    "print(\"LOG LOSS= \" + str(log_loss(Y_test, Y_pred_proba)))\n",
    "\n",
    "    "
   ]
  },
  {
   "cell_type": "markdown",
   "metadata": {},
   "source": [
    "E' esattamente lo stesso risultato di prima"
   ]
  },
  {
   "cell_type": "code",
   "execution_count": null,
   "metadata": {},
   "outputs": [],
   "source": []
  }
 ],
 "metadata": {
  "kernelspec": {
   "display_name": "Python 3",
   "language": "python",
   "name": "python3"
  },
  "language_info": {
   "codemirror_mode": {
    "name": "ipython",
    "version": 3
   },
   "file_extension": ".py",
   "mimetype": "text/x-python",
   "name": "python",
   "nbconvert_exporter": "python",
   "pygments_lexer": "ipython3",
   "version": "3.7.4"
  }
 },
 "nbformat": 4,
 "nbformat_minor": 2
}
