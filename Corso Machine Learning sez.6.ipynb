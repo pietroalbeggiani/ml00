{
 "cells": [
  {
   "cell_type": "markdown",
   "metadata": {},
   "source": [
    "# Sezione 6: modelli di classificazione non lineare\n",
    "### Lezioni 35 - 47 \n"
   ]
  },
  {
   "cell_type": "markdown",
   "metadata": {},
   "source": [
    "#### K-Nearest Neighbor (K-NN)"
   ]
  },
  {
   "cell_type": "markdown",
   "metadata": {},
   "source": [
    "E' un modello di classificazione. Partiamo dal suo precursore: i Nearest Neighbor, che esegue una classificazione cercando all'interno del dataset l'esempio piu simile a quello che vogliamo classificare.\n",
    "Questo tipo di algoritmi sono definiti 'Lazy', cioè pigri, perchè piuttosto che apprendere dai dati si limitano a memorizzarli.\n",
    "Per poter confrontare gli esempi ci serve una metrica per poter calcolare la distaza, ed abbiamo diverse opzioni per questo:\n",
    "Distanza euclidea: ci permette di trovare il segmento piu breve che connette due punti.\n",
    "Distanza di Manhattan, detta geometria del tai, che trova la distanza minore usando solo segmenti orizzontali e verticali.\n",
    "Distanza di Minkowsky, che non è altro che una generalizzazione della distanza euclidea e di manhattan, infattiutilizzando p = 2 otterremo la distanza euclidea, mentre con p = 1 otterremo quella di manhattan.\n",
    "Ora possiamo affrontare il K-NN.\n",
    "Il K-NN piuttosto che cercare un unico esempio maggiormente simile, se ne cerca un numero arbitrario. L classe predetta sara quella piu presente fra questi esmpi trovati: i nearest neughbor.\n",
    "K è il numero di esempi vicini da cercare, e permette di controllare la complessita del metodo: ad un numero minore di K corrisponde una complessita maggiore. Solitamente un buon valore di K è 5.\n",
    "Per capire meglio guarda il video della lezione 35:\n",
    "scegliamo il valore di K,\n",
    "scegliamo la metrica per calcolare la distanza fra gli esempi\n",
    "calcoliamo la distanza fra l'esempio da classificare e tutti gli esempi del dataset,e scegliamo i 5 esempi piu simili, cioe quelli con la distanza minore.\n",
    "Se si ha un pareggio fra due classi, bisogna selezionarela classe con la distanza minore con l'esempio che stiamo provando a classificare.\n",
    "Vediamo pro e contro di questo modello.\n",
    "Pro:\n",
    "E' estremamnte semplice,\n",
    "Non avendo una vera e propria fase di addestramento, si adattera subito a nuovi dati non appena vengono inseriti nel dataset.\n",
    "Contro:\n",
    "Su dataset molto grandi, diventa molto dispendioso in termini di risorse di calcolo, dato che per ogni esempio da classificare bisogna effettuare un confronto con ogni altro esempio del dataset,\n",
    "Bisogna scegliere la metrica corretta da utilizzare e nn esiste una regola universale per farlo.\n"
   ]
  },
  {
   "cell_type": "markdown",
   "metadata": {},
   "source": [
    "#### K-NN in Python\n",
    "\n",
    "useremi il K-NN per eseguire una classificazione dei dati scritti a mano che ci fornisce scikitlearn (quella usato per la lezione precedente sulla classificazione multiclasse"
   ]
  },
  {
   "cell_type": "code",
   "execution_count": 8,
   "metadata": {},
   "outputs": [],
   "source": [
    "# importiamo tutte le librerie che ci serviranno:\n",
    "import matplotlib.pyplot as plt\n",
    "import numpy as np\n",
    "from sklearn.datasets import load_digits\n",
    "from sklearn.model_selection import train_test_split\n",
    "from sklearn.metrics import log_loss\n",
    "from sklearn.metrics import accuracy_score\n",
    "from sklearn.preprocessing import MinMaxScaler"
   ]
  },
  {
   "cell_type": "code",
   "execution_count": 9,
   "metadata": {},
   "outputs": [],
   "source": [
    "# e carichiamo il dataset con la funzione load_digits di scikitlearn:\n",
    "\n",
    "digits = load_digits()\n",
    "\n",
    "# e creiamo gli array numpy con le proprieta e con il target:\n",
    "\n",
    "X = digits.data\n",
    "Y = digits.target\n",
    "\n",
    "# e creiamo gli array per addestramento e per test:\n",
    "\n",
    "X_train, X_test, Y_train, Y_test = train_test_split(X,Y, test_size = 0.3, random_state = 0)"
   ]
  },
  {
   "cell_type": "code",
   "execution_count": 10,
   "metadata": {},
   "outputs": [],
   "source": [
    "#Trattandosi di immagini, conviene normalizzare il dataset per avere valri compresi fra 0 e 1 piuttosto che fra 0 e 255:\n",
    "\n",
    "mms = MinMaxScaler()\n",
    "X_train = mms.fit_transform(X_train)\n",
    "X_test = mms.transform(X_test)"
   ]
  },
  {
   "cell_type": "code",
   "execution_count": 11,
   "metadata": {},
   "outputs": [
    {
     "data": {
      "text/plain": [
       "KNeighborsClassifier(algorithm='auto', leaf_size=30, metric='minkowski',\n",
       "                     metric_params=None, n_jobs=None, n_neighbors=5, p=2,\n",
       "                     weights='uniform')"
      ]
     },
     "execution_count": 11,
     "metadata": {},
     "output_type": "execute_result"
    }
   ],
   "source": [
    "# Adesso possimao costruire il modello, e per farlo usiamo la classe KNeighborsClassifier di scikitlearn:\n",
    "    \n",
    "from sklearn.neighbors import KNeighborsClassifier\n",
    "\n",
    "knn = KNeighborsClassifier()\n",
    "knn.fit(X_train, Y_train)\n",
    "    \n",
    "    "
   ]
  },
  {
   "cell_type": "markdown",
   "metadata": {},
   "source": [
    "Facciamo delle predizioni su trainset e test set per verificarne la validita e per vedere se soffre di overfitting"
   ]
  },
  {
   "cell_type": "code",
   "execution_count": 12,
   "metadata": {},
   "outputs": [],
   "source": [
    "Y_pred_train = knn.predict(X_train)\n",
    "Y_prob_train = knn.predict_proba(X_train)\n",
    "\n",
    "# Queste sono sul trainset, ora le facciamo sul testset:\n",
    "\n",
    "Y_pred_test = knn.predict(X_test)\n",
    "Y_prob_test = knn.predict_proba(X_test)\n"
   ]
  },
  {
   "cell_type": "code",
   "execution_count": 13,
   "metadata": {},
   "outputs": [
    {
     "ename": "NameError",
     "evalue": "name 'y_pred_train' is not defined",
     "output_type": "error",
     "traceback": [
      "\u001b[1;31m---------------------------------------------------------------------------\u001b[0m",
      "\u001b[1;31mNameError\u001b[0m                                 Traceback (most recent call last)",
      "\u001b[1;32m<ipython-input-13-b4ceb768b935>\u001b[0m in \u001b[0;36m<module>\u001b[1;34m\u001b[0m\n\u001b[1;32m----> 1\u001b[1;33m \u001b[0maccuracy_train\u001b[0m \u001b[1;33m=\u001b[0m \u001b[0maccuracy_score\u001b[0m\u001b[1;33m(\u001b[0m\u001b[0mY_train\u001b[0m\u001b[1;33m,\u001b[0m \u001b[0my_pred_train\u001b[0m\u001b[1;33m)\u001b[0m\u001b[1;33m\u001b[0m\u001b[1;33m\u001b[0m\u001b[0m\n\u001b[0m\u001b[0;32m      2\u001b[0m \u001b[0maccuracy_test\u001b[0m \u001b[1;33m=\u001b[0m \u001b[0maccuracy_score\u001b[0m\u001b[1;33m(\u001b[0m\u001b[0mY_test\u001b[0m\u001b[1;33m,\u001b[0m \u001b[0my_pred\u001b[0m\u001b[1;33m)\u001b[0m\u001b[1;33m\u001b[0m\u001b[1;33m\u001b[0m\u001b[0m\n\u001b[0;32m      3\u001b[0m \u001b[0mloss_train\u001b[0m \u001b[1;33m=\u001b[0m \u001b[0mlog_loss\u001b[0m\u001b[1;33m(\u001b[0m\u001b[0mY_train\u001b[0m\u001b[1;33m,\u001b[0m \u001b[0my_prob_train\u001b[0m\u001b[1;33m)\u001b[0m\u001b[1;33m\u001b[0m\u001b[1;33m\u001b[0m\u001b[0m\n\u001b[0;32m      4\u001b[0m \u001b[0mloss_test\u001b[0m \u001b[1;33m=\u001b[0m \u001b[0mlog_loss\u001b[0m\u001b[1;33m(\u001b[0m\u001b[0mY_test\u001b[0m\u001b[1;33m,\u001b[0m \u001b[0my_prob\u001b[0m\u001b[1;33m)\u001b[0m\u001b[1;33m\u001b[0m\u001b[1;33m\u001b[0m\u001b[0m\n\u001b[0;32m      5\u001b[0m \u001b[1;33m\u001b[0m\u001b[0m\n",
      "\u001b[1;31mNameError\u001b[0m: name 'y_pred_train' is not defined"
     ]
    }
   ],
   "source": [
    "accuracy_train = accuracy_score(Y_train, y_pred_train)\n",
    "accuracy_test = accuracy_score(Y_test, y_pred)\n",
    "loss_train = log_loss(Y_train, y_prob_train)\n",
    "loss_test = log_loss(Y_test, y_prob)\n",
    "    \n",
    "print(\"ACCURACY: TRAIN=%.4f TEST=%.4f\" % (accuracy_train,accuracy_test))\n",
    "print(\"LOG LOSS: TRAIN=%.4f TEST=%.4f\" % (loss_train,loss_test))"
   ]
  },
  {
   "cell_type": "markdown",
   "metadata": {},
   "source": [
    "L'accuracy va bene si aper il trainset che per il testset, e non sembra quindi esserci problema di overfitting, e va bene anche il logloss.\n",
    "Possiamo fare di meglio: Vediamo cosa succede se facciamo variare il valore di K:\n",
    "Quindi creiamo diversi modelli per diversi valori di K.\n"
   ]
  },
  {
   "cell_type": "code",
   "execution_count": 14,
   "metadata": {
    "scrolled": true
   },
   "outputs": [
    {
     "name": "stdout",
     "output_type": "stream",
     "text": [
      "K=1\n",
      "ACCURACY: TRAIN=1.0000 TEST=0.9889\n",
      "LOG LOSS: TRAIN=0.0000 TEST=0.3838\n",
      "K=2\n",
      "ACCURACY: TRAIN=0.9897 TEST=0.9833\n",
      "LOG LOSS: TRAIN=0.0099 TEST=0.2060\n",
      "K=3\n",
      "ACCURACY: TRAIN=0.9912 TEST=0.9889\n",
      "LOG LOSS: TRAIN=0.0164 TEST=0.1509\n",
      "K=4\n",
      "ACCURACY: TRAIN=0.9889 TEST=0.9796\n",
      "LOG LOSS: TRAIN=0.0233 TEST=0.1557\n",
      "K=5\n",
      "ACCURACY: TRAIN=0.9897 TEST=0.9870\n",
      "LOG LOSS: TRAIN=0.0295 TEST=0.1629\n",
      "K=7\n",
      "ACCURACY: TRAIN=0.9897 TEST=0.9815\n",
      "LOG LOSS: TRAIN=0.0423 TEST=0.1767\n",
      "K=10\n",
      "ACCURACY: TRAIN=0.9825 TEST=0.9741\n",
      "LOG LOSS: TRAIN=0.0584 TEST=0.1326\n",
      "K=12\n",
      "ACCURACY: TRAIN=0.9809 TEST=0.9741\n",
      "LOG LOSS: TRAIN=0.0668 TEST=0.1449\n",
      "K=15\n",
      "ACCURACY: TRAIN=0.9801 TEST=0.9685\n",
      "LOG LOSS: TRAIN=0.0823 TEST=0.1587\n",
      "K=20\n",
      "ACCURACY: TRAIN=0.9745 TEST=0.9593\n",
      "LOG LOSS: TRAIN=0.1076 TEST=0.1854\n"
     ]
    }
   ],
   "source": [
    "Ks = [1,2,3,4,5,7,10,12,15,20]\n",
    "\n",
    "for K in Ks:\n",
    "    print(\"K=\"+str(K))\n",
    "    knn = KNeighborsClassifier(n_neighbors=K)\n",
    "    knn.fit(X_train,Y_train)\n",
    "    \n",
    "    y_pred_train = knn.predict(X_train)\n",
    "    y_prob_train = knn.predict_proba(X_train)\n",
    "    \n",
    "    y_pred = knn.predict(X_test)\n",
    "    y_prob = knn.predict_proba(X_test)\n",
    "    \n",
    "    accuracy_train = accuracy_score(Y_train, y_pred_train)\n",
    "    accuracy_test = accuracy_score(Y_test, y_pred)\n",
    "\n",
    "    loss_train = log_loss(Y_train, y_prob_train)\n",
    "    loss_test = log_loss(Y_test, y_prob)\n",
    "    \n",
    "    print(\"ACCURACY: TRAIN=%.4f TEST=%.4f\" % (accuracy_train,accuracy_test))\n",
    "    print(\"LOG LOSS: TRAIN=%.4f TEST=%.4f\" % (loss_train,loss_test))\n",
    "    "
   ]
  },
  {
   "cell_type": "markdown",
   "metadata": {},
   "source": [
    "Il valore di K conolla la complessita del modello:\n",
    "ad un valore minore corrisponde una complessita maggiore,e quindi un rischio di overfitting piu alto.\n",
    "Per K=1 ci fa pensare a un problema di overfitting.\n",
    "Sembrerebbe che il modello migliore si abbia per K=3 , anche se la loss migliore la otteniamo per K=10 ,a discapito di un accuracy minore."
   ]
  },
  {
   "cell_type": "markdown",
   "metadata": {},
   "source": [
    "Pendiamo il nostro modello per K=3 e proviamo a visualizzare le immagini che ha sbagliato a classificare:\n",
    "Quindi riaddestriamo il nostro modello per K=3:\n",
    "    "
   ]
  },
  {
   "cell_type": "code",
   "execution_count": 15,
   "metadata": {},
   "outputs": [],
   "source": [
    "knn = KNeighborsClassifier(n_neighbors=3)\n",
    "\n",
    "knn.fit(X_train,Y_train)\n",
    "    \n",
    "Y_pred = knn.predict(X_test)\n",
    "\n",
    "import matplotlib.pyplot as plt"
   ]
  },
  {
   "cell_type": "markdown",
   "metadata": {},
   "source": [
    "e facciamo un ciclo for su tutto il testset.\n",
    "se la predizione del nostro modello non combacia con quella corretta, quindi è sbagliata, la predizione corretta "
   ]
  },
  {
   "cell_type": "code",
   "execution_count": 16,
   "metadata": {
    "scrolled": true
   },
   "outputs": [
    {
     "name": "stdout",
     "output_type": "stream",
     "text": [
      "Numero 8 classificato come 3 \n"
     ]
    },
    {
     "data": {
      "image/png": "[encoded data removed]",
      "text/plain": [
       "<Figure size 432x288 with 1 Axes>"
      ]
     },
     "metadata": {
      "needs_background": "light"
     },
     "output_type": "display_data"
    },
    {
     "name": "stdout",
     "output_type": "stream",
     "text": [
      "Numero 8 classificato come 3 \n"
     ]
    },
    {
     "data": {
      "image/png": "[encoded data removed]",
      "text/plain": [
       "<Figure size 432x288 with 1 Axes>"
      ]
     },
     "metadata": {
      "needs_background": "light"
     },
     "output_type": "display_data"
    },
    {
     "name": "stdout",
     "output_type": "stream",
     "text": [
      "Numero 8 classificato come 9 \n"
     ]
    },
    {
     "data": {
      "image/png": "[encoded data removed]",
      "text/plain": [
       "<Figure size 432x288 with 1 Axes>"
      ]
     },
     "metadata": {
      "needs_background": "light"
     },
     "output_type": "display_data"
    },
    {
     "name": "stdout",
     "output_type": "stream",
     "text": [
      "Numero 8 classificato come 7 \n"
     ]
    },
    {
     "data": {
      "image/png": "[encoded data removed]",
      "text/plain": [
       "<Figure size 432x288 with 1 Axes>"
      ]
     },
     "metadata": {
      "needs_background": "light"
     },
     "output_type": "display_data"
    },
    {
     "name": "stdout",
     "output_type": "stream",
     "text": [
      "Numero 8 classificato come 5 \n"
     ]
    },
    {
     "data": {
      "image/png": "[encoded data removed]",
      "text/plain": [
       "<Figure size 432x288 with 1 Axes>"
      ]
     },
     "metadata": {
      "needs_background": "light"
     },
     "output_type": "display_data"
    },
    {
     "name": "stdout",
     "output_type": "stream",
     "text": [
      "Numero 8 classificato come 6 \n"
     ]
    },
    {
     "data": {
      "image/png": "[encoded data removed]",
      "text/plain": [
       "<Figure size 432x288 with 1 Axes>"
      ]
     },
     "metadata": {
      "needs_background": "light"
     },
     "output_type": "display_data"
    }
   ],
   "source": [
    "for i in range(0,len(X_test)):\n",
    "    if(Y_pred[i] != Y_test[i]):\n",
    "        print(\"Numero %d classificato come %d \" % (Y_test[1], Y_pred[i]))\n",
    "        \n",
    "        plt.imshow(X_test[i].reshape([8,8]), cmap = \"gray\")\n",
    "        plt.show()"
   ]
  },
  {
   "cell_type": "markdown",
   "metadata": {},
   "source": [
    "Le immagini dove ha sbagliato erano difficilmente riconoscibili anche dall'occhio umano, quindi possimao idre che il nostro modello ha lavorato bene."
   ]
  },
  {
   "cell_type": "markdown",
   "metadata": {},
   "source": [
    "### Alberi decisionali\n",
    "\n",
    "Sono un modello di classificazione molto diverso da quelli visti fino ad ora.\n",
    "Diamo qualche informazione sulla teoria degli alberi:\n",
    "In informatica un albero è una struttura dati che va letta dall'alto verso il basso, il punto di partenza è chiamato RADICE.\n",
    "Gli elementi che connettono i vari punti dell'albero sono chiamati ARCHI.\n",
    "Gli element che contengono le informazioni sono chiamati NODI.\n",
    "Gli elementi di arrivo dell0albero sono chiamate FOGLIE.\n",
    "Anche radice e foglie sono nodi: la radice con solo archi in uscita, mente le foglie con solo archi in entrata."
   ]
  },
  {
   "cell_type": "markdown",
   "metadata": {},
   "source": [
    "Adesso introduciamo gli alberi decisionali: un modello di machine learning che utilizza una struttura dati ad albero per contenere le informazioni ed effettuare le predizioni. Quello che fa un albero decisionale è apprendere dai dati una serie di domande che poi usera per eseguire le predizioni.\n",
    "Sono molto usati da banche e gruppi assicirativi per decidire se concedere un prestito o fare assicurazioni.\n",
    "Vediamo un esempio (video lezione 37)\n",
    "\n",
    "Come fa un albero decisionale durante la fase di addestramento a decidere quali domande porre?\n",
    "Lo fa scegliendo la domanda che massimizza il guadagno di informazioni. Per capire meglio cosa significa guarda il video.\n",
    "\n",
    "La metrica che misura quanto è buono un guadagno si chiama IMPURITA', e vale 0 quando un nodo contiene sempi di un unica classe, in tale caso si dice che il nodo è puro, ed il nostro albero avra raggiunto una foglia.\n",
    "L'obiettivo dell'addestramento è d riuscire ad arrivare alle folgie ponendo il minor numero di domande possibile.\n",
    "Esistono diverse metriche per calcolare le impurità: le piu usate sono GINI ed ENTROPIA:\n",
    "Non le approfondiamo dato che portano a risultati molto simili. In generale Gini è meno impegnativa dal punto di vista di calcolo, quindi nella pratica convverrebbe usare questa.\n",
    "Ora proviamo a costruire un albero decisionale, dando per scontato che gli split che andremo a fare sono quelli corretti (vedi video...)\n",
    "La PROFONDITA' di un albero è definita come la lunghezza del percorso piu lungo che va dalla radice a una foglia.\n",
    "Una maggiore profondita dell'albero corrisponde ad una maggiore complessita del modello, e quindi in un rischio maggiore di overfitting."
   ]
  },
  {
   "cell_type": "markdown",
   "metadata": {},
   "source": [
    "#### Alberi decisionali in Python\n",
    "\n",
    "useremo un dataset che è un elenco dei passeggeri del titanic, e l'obiettivo è di riuscire a predire se un dato passeggero è sopravvissuto alla tragedia.\n"
   ]
  },
  {
   "cell_type": "code",
   "execution_count": 17,
   "metadata": {},
   "outputs": [],
   "source": [
    "# importiamo le librerie necessarie:\n",
    "import pandas as pd\n",
    "import numpy as np\n",
    "from sklearn.model_selection import train_test_split\n",
    "from sklearn.metrics import log_loss\n",
    "from sklearn.metrics import accuracy_score\n",
    "\n"
   ]
  },
  {
   "cell_type": "code",
   "execution_count": 18,
   "metadata": {},
   "outputs": [
    {
     "name": "stdout",
     "output_type": "stream",
     "text": [
      "<class 'pandas.core.frame.DataFrame'>\n",
      "RangeIndex: 887 entries, 0 to 886\n",
      "Data columns (total 8 columns):\n",
      "Survived                   887 non-null int64\n",
      "Pclass                     887 non-null int64\n",
      "Name                       887 non-null object\n",
      "Sex                        887 non-null object\n",
      "Age                        887 non-null float64\n",
      "Siblings/Spouses Aboard    887 non-null int64\n",
      "Parents/Children Aboard    887 non-null int64\n",
      "Fare                       887 non-null float64\n",
      "dtypes: float64(2), int64(4), object(2)\n",
      "memory usage: 55.6+ KB\n"
     ]
    }
   ],
   "source": [
    "# e carichiamo il dataset:\n",
    "\n",
    "titanic = pd.read_csv(\"http://web.stanford.edu/class/archive/cs/cs109/cs109.1166/stuff/titanic.csv\")\n",
    "titanic.info()"
   ]
  },
  {
   "cell_type": "markdown",
   "metadata": {},
   "source": [
    "ci sono 8 colonne: 7 propreita e 1 target\n",
    "e 887 esempi"
   ]
  },
  {
   "cell_type": "code",
   "execution_count": 19,
   "metadata": {},
   "outputs": [
    {
     "data": {
      "text/html": [
       "<div>\n",
       "<style scoped>\n",
       "    .dataframe tbody tr th:only-of-type {\n",
       "        vertical-align: middle;\n",
       "    }\n",
       "\n",
       "    .dataframe tbody tr th {\n",
       "        vertical-align: top;\n",
       "    }\n",
       "\n",
       "    .dataframe thead th {\n",
       "        text-align: right;\n",
       "    }\n",
       "</style>\n",
       "<table border=\"1\" class=\"dataframe\">\n",
       "  <thead>\n",
       "    <tr style=\"text-align: right;\">\n",
       "      <th></th>\n",
       "      <th>Survived</th>\n",
       "      <th>Pclass</th>\n",
       "      <th>Name</th>\n",
       "      <th>Sex</th>\n",
       "      <th>Age</th>\n",
       "      <th>Siblings/Spouses Aboard</th>\n",
       "      <th>Parents/Children Aboard</th>\n",
       "      <th>Fare</th>\n",
       "    </tr>\n",
       "  </thead>\n",
       "  <tbody>\n",
       "    <tr>\n",
       "      <td>0</td>\n",
       "      <td>0</td>\n",
       "      <td>3</td>\n",
       "      <td>Mr. Owen Harris Braund</td>\n",
       "      <td>male</td>\n",
       "      <td>22.0</td>\n",
       "      <td>1</td>\n",
       "      <td>0</td>\n",
       "      <td>7.2500</td>\n",
       "    </tr>\n",
       "    <tr>\n",
       "      <td>1</td>\n",
       "      <td>1</td>\n",
       "      <td>1</td>\n",
       "      <td>Mrs. John Bradley (Florence Briggs Thayer) Cum...</td>\n",
       "      <td>female</td>\n",
       "      <td>38.0</td>\n",
       "      <td>1</td>\n",
       "      <td>0</td>\n",
       "      <td>71.2833</td>\n",
       "    </tr>\n",
       "    <tr>\n",
       "      <td>2</td>\n",
       "      <td>1</td>\n",
       "      <td>3</td>\n",
       "      <td>Miss. Laina Heikkinen</td>\n",
       "      <td>female</td>\n",
       "      <td>26.0</td>\n",
       "      <td>0</td>\n",
       "      <td>0</td>\n",
       "      <td>7.9250</td>\n",
       "    </tr>\n",
       "    <tr>\n",
       "      <td>3</td>\n",
       "      <td>1</td>\n",
       "      <td>1</td>\n",
       "      <td>Mrs. Jacques Heath (Lily May Peel) Futrelle</td>\n",
       "      <td>female</td>\n",
       "      <td>35.0</td>\n",
       "      <td>1</td>\n",
       "      <td>0</td>\n",
       "      <td>53.1000</td>\n",
       "    </tr>\n",
       "    <tr>\n",
       "      <td>4</td>\n",
       "      <td>0</td>\n",
       "      <td>3</td>\n",
       "      <td>Mr. William Henry Allen</td>\n",
       "      <td>male</td>\n",
       "      <td>35.0</td>\n",
       "      <td>0</td>\n",
       "      <td>0</td>\n",
       "      <td>8.0500</td>\n",
       "    </tr>\n",
       "  </tbody>\n",
       "</table>\n",
       "</div>"
      ],
      "text/plain": [
       "   Survived  Pclass                                               Name  \\\n",
       "0         0       3                             Mr. Owen Harris Braund   \n",
       "1         1       1  Mrs. John Bradley (Florence Briggs Thayer) Cum...   \n",
       "2         1       3                              Miss. Laina Heikkinen   \n",
       "3         1       1        Mrs. Jacques Heath (Lily May Peel) Futrelle   \n",
       "4         0       3                            Mr. William Henry Allen   \n",
       "\n",
       "      Sex   Age  Siblings/Spouses Aboard  Parents/Children Aboard     Fare  \n",
       "0    male  22.0                        1                        0   7.2500  \n",
       "1  female  38.0                        1                        0  71.2833  \n",
       "2  female  26.0                        0                        0   7.9250  \n",
       "3  female  35.0                        1                        0  53.1000  \n",
       "4    male  35.0                        0                        0   8.0500  "
      ]
     },
     "execution_count": 19,
     "metadata": {},
     "output_type": "execute_result"
    }
   ],
   "source": [
    "# diamo uno sguardo ai primi 5 esempi:\n",
    "\n",
    "titanic.head()"
   ]
  },
  {
   "cell_type": "markdown",
   "metadata": {},
   "source": [
    "siccome il nostro scopo è solo di creare un albero decisionale andiamo a rimuovere la proprieta Name dal dataset, perche cosi com'è non da nessuna informaione significativa per il nostro modello.\n"
   ]
  },
  {
   "cell_type": "code",
   "execution_count": 20,
   "metadata": {},
   "outputs": [],
   "source": [
    "titanic = titanic.drop(\"Name\", axis = 1)"
   ]
  },
  {
   "cell_type": "code",
   "execution_count": 21,
   "metadata": {},
   "outputs": [
    {
     "data": {
      "text/html": [
       "<div>\n",
       "<style scoped>\n",
       "    .dataframe tbody tr th:only-of-type {\n",
       "        vertical-align: middle;\n",
       "    }\n",
       "\n",
       "    .dataframe tbody tr th {\n",
       "        vertical-align: top;\n",
       "    }\n",
       "\n",
       "    .dataframe thead th {\n",
       "        text-align: right;\n",
       "    }\n",
       "</style>\n",
       "<table border=\"1\" class=\"dataframe\">\n",
       "  <thead>\n",
       "    <tr style=\"text-align: right;\">\n",
       "      <th></th>\n",
       "      <th>Survived</th>\n",
       "      <th>Pclass</th>\n",
       "      <th>Age</th>\n",
       "      <th>Siblings/Spouses Aboard</th>\n",
       "      <th>Parents/Children Aboard</th>\n",
       "      <th>Fare</th>\n",
       "      <th>Sex_female</th>\n",
       "      <th>Sex_male</th>\n",
       "    </tr>\n",
       "  </thead>\n",
       "  <tbody>\n",
       "    <tr>\n",
       "      <td>0</td>\n",
       "      <td>0</td>\n",
       "      <td>3</td>\n",
       "      <td>22.0</td>\n",
       "      <td>1</td>\n",
       "      <td>0</td>\n",
       "      <td>7.2500</td>\n",
       "      <td>0</td>\n",
       "      <td>1</td>\n",
       "    </tr>\n",
       "    <tr>\n",
       "      <td>1</td>\n",
       "      <td>1</td>\n",
       "      <td>1</td>\n",
       "      <td>38.0</td>\n",
       "      <td>1</td>\n",
       "      <td>0</td>\n",
       "      <td>71.2833</td>\n",
       "      <td>1</td>\n",
       "      <td>0</td>\n",
       "    </tr>\n",
       "    <tr>\n",
       "      <td>2</td>\n",
       "      <td>1</td>\n",
       "      <td>3</td>\n",
       "      <td>26.0</td>\n",
       "      <td>0</td>\n",
       "      <td>0</td>\n",
       "      <td>7.9250</td>\n",
       "      <td>1</td>\n",
       "      <td>0</td>\n",
       "    </tr>\n",
       "    <tr>\n",
       "      <td>3</td>\n",
       "      <td>1</td>\n",
       "      <td>1</td>\n",
       "      <td>35.0</td>\n",
       "      <td>1</td>\n",
       "      <td>0</td>\n",
       "      <td>53.1000</td>\n",
       "      <td>1</td>\n",
       "      <td>0</td>\n",
       "    </tr>\n",
       "    <tr>\n",
       "      <td>4</td>\n",
       "      <td>0</td>\n",
       "      <td>3</td>\n",
       "      <td>35.0</td>\n",
       "      <td>0</td>\n",
       "      <td>0</td>\n",
       "      <td>8.0500</td>\n",
       "      <td>0</td>\n",
       "      <td>1</td>\n",
       "    </tr>\n",
       "  </tbody>\n",
       "</table>\n",
       "</div>"
      ],
      "text/plain": [
       "   Survived  Pclass   Age  Siblings/Spouses Aboard  Parents/Children Aboard  \\\n",
       "0         0       3  22.0                        1                        0   \n",
       "1         1       1  38.0                        1                        0   \n",
       "2         1       3  26.0                        0                        0   \n",
       "3         1       1  35.0                        1                        0   \n",
       "4         0       3  35.0                        0                        0   \n",
       "\n",
       "      Fare  Sex_female  Sex_male  \n",
       "0   7.2500           0         1  \n",
       "1  71.2833           1         0  \n",
       "2   7.9250           1         0  \n",
       "3  53.1000           1         0  \n",
       "4   8.0500           0         1  "
      ]
     },
     "execution_count": 21,
     "metadata": {},
     "output_type": "execute_result"
    }
   ],
   "source": [
    "# eseguiamo anche il one hot encoding sulla proprieta Sex per creare una variabile di comodo:\n",
    "titanic = pd.get_dummies(titanic)\n",
    "titanic.head()"
   ]
  },
  {
   "cell_type": "code",
   "execution_count": 22,
   "metadata": {},
   "outputs": [],
   "source": [
    "#creiamo gli array numpy per le proprieta e target:\n",
    "X = titanic.drop(\"Survived\", axis = 1).values\n",
    "Y = titanic[\"Survived\"].values"
   ]
  },
  {
   "cell_type": "code",
   "execution_count": 23,
   "metadata": {},
   "outputs": [],
   "source": [
    "# e creiamo i dataset di training e di test:\n",
    "X_train, X_test, Y_train, Y_test = train_test_split(X,Y, test_size = 0.3, random_state = 0)"
   ]
  },
  {
   "cell_type": "code",
   "execution_count": 24,
   "metadata": {},
   "outputs": [
    {
     "data": {
      "text/plain": [
       "(620, 7)"
      ]
     },
     "execution_count": 24,
     "metadata": {},
     "output_type": "execute_result"
    }
   ],
   "source": [
    "# diamo uno sguardo al nostro trainset:\n",
    "X_train.shape"
   ]
  },
  {
   "cell_type": "markdown",
   "metadata": {},
   "source": [
    "Abbiamo 620 esempi e 7 proprieta per allenare il nostro modello.\n",
    "\n",
    "Per gli alberi decisionali non è necessario normalizzare o standardizzare il dataset. Quindi possiamo proseguire con la creazione del nostro modello."
   ]
  },
  {
   "cell_type": "code",
   "execution_count": 25,
   "metadata": {},
   "outputs": [],
   "source": [
    "# importiamo la classe DecisionTreeClassifier da scikitlearn:\n",
    "from sklearn.tree import DecisionTreeClassifier"
   ]
  },
  {
   "cell_type": "code",
   "execution_count": 26,
   "metadata": {},
   "outputs": [],
   "source": [
    "# creiamo il nostro albero instanziando la classe:\n",
    "\n",
    "tree = DecisionTreeClassifier(criterion=\"gini\")"
   ]
  },
  {
   "cell_type": "markdown",
   "metadata": {},
   "source": [
    "Con il parametro criterion impostiamo la metrica legata all'impurita. Possiamo scegliere gini o entropy, che sono abbastanza analoghe, ma gini è meno impegnativa dal punto di vista dei calcoli. Comuqnue di default è impostata su gini, quindi potremmo omettere il parametro."
   ]
  },
  {
   "cell_type": "code",
   "execution_count": 27,
   "metadata": {},
   "outputs": [
    {
     "data": {
      "text/plain": [
       "DecisionTreeClassifier(class_weight=None, criterion='gini', max_depth=None,\n",
       "                       max_features=None, max_leaf_nodes=None,\n",
       "                       min_impurity_decrease=0.0, min_impurity_split=None,\n",
       "                       min_samples_leaf=1, min_samples_split=2,\n",
       "                       min_weight_fraction_leaf=0.0, presort=False,\n",
       "                       random_state=None, splitter='best')"
      ]
     },
     "execution_count": 27,
     "metadata": {},
     "output_type": "execute_result"
    }
   ],
   "source": [
    "# addestriamo il nostro albero:\n",
    "tree.fit(X_train, Y_train)"
   ]
  },
  {
   "cell_type": "code",
   "execution_count": 28,
   "metadata": {},
   "outputs": [
    {
     "name": "stdout",
     "output_type": "stream",
     "text": [
      "ACCURACY: Train=0.9806 Test:0.7640\n"
     ]
    }
   ],
   "source": [
    "# ed eseguiamo le predizioni su trainset e testset:\n",
    "Y_pred_train = tree.predict(X_train)\n",
    "Y_pred = tree.predict(X_test)\n",
    "\n",
    "# e calcoliamo l'accuracy:\n",
    "accuracy_train = accuracy_score(Y_train, Y_pred_train)\n",
    "accuracy_test = accuracy_score(Y_test, Y_pred)\n",
    "\n",
    "# e le stampiamo:\n",
    "\n",
    "print(\"ACCURACY: Train=%.4f Test:%.4f\" % (accuracy_train, accuracy_test))\n"
   ]
  },
  {
   "cell_type": "markdown",
   "metadata": {},
   "source": [
    "L'accuratezza del trainset è parecchio migliore di quella del testset, quindi il nostro Albero è troppo complesso e soffre di overfitting. \n",
    "La complessita di un albero è collegata alla sua profondita. Quindi proviamo a limitare la profondita dell'albero e vediamo re riusciamo a ridurre l'overfitting.\n",
    "Possiamo ridurre la profondita massima dell'albero tramite il parametro max_depth, che va aggiunto agli argomenti della classe DecisionTreeClassifier. Proviamo a ridurla:\n",
    "\n"
   ]
  },
  {
   "cell_type": "code",
   "execution_count": 29,
   "metadata": {},
   "outputs": [
    {
     "name": "stdout",
     "output_type": "stream",
     "text": [
      "ACCURACY: Train=0.8935 Test:0.8202\n"
     ]
    }
   ],
   "source": [
    "tree = DecisionTreeClassifier(criterion=\"gini\", max_depth = 6)\n",
    "\n",
    "# riaddestriamo il modello e ricalcoliamo le metriche:\n",
    "\n",
    "tree.fit(X_train, Y_train)\n",
    "\n",
    "Y_pred_train = tree.predict(X_train)\n",
    "Y_pred = tree.predict(X_test)\n",
    "\n",
    "accuracy_train = accuracy_score(Y_train, Y_pred_train)\n",
    "accuracy_test = accuracy_score(Y_test, Y_pred)\n",
    "\n",
    "print(\"ACCURACY: Train=%.4f Test:%.4f\" % (accuracy_train, accuracy_test))\n",
    "\n"
   ]
  },
  {
   "cell_type": "markdown",
   "metadata": {},
   "source": [
    "Gia va molto meglio rispetto a prima: abbiamo un accuracy minore per il trainset, ma quella del testset è maggiore e c'è meno gap fra le 2.\n",
    "\n",
    "Un altra caratteristica fantastica degli alberi è che possono essere semplicemente visualizzabili. Vediamo come:\n"
   ]
  },
  {
   "cell_type": "code",
   "execution_count": 30,
   "metadata": {},
   "outputs": [],
   "source": [
    "# importiamo la funzione export_graphviz da scikitlearn:\n",
    "\n",
    "from sklearn.tree import export_graphviz"
   ]
  },
  {
   "cell_type": "code",
   "execution_count": 31,
   "metadata": {},
   "outputs": [],
   "source": [
    "# ora creiamo un file .dot e usiamo la funzione export_graphviz per scrivere il nostro albero dentro a questo file:\n",
    "dotfile = open(\"tree.dot\",\"w\")\n",
    "export_graphviz(tree, out_file = dotfile, feature_names = titanic.columns.drop(\"Survived\"))\n",
    "dotfile.close()"
   ]
  },
  {
   "cell_type": "markdown",
   "metadata": {},
   "source": [
    "Ora troviamo il file tree.dot nella cartella che contiene il file python su cui stiamo lavorando, e possiamo aprirlo e visualizzarlo o con il programma gaphviz oppure su webgraphviz.com"
   ]
  },
  {
   "cell_type": "markdown",
   "metadata": {},
   "source": [
    "#### Foreste casuali (random forest)\n",
    "\n",
    "La random forest è un modello di machine learning che si basa su un tipo di apprendimento detto Ensemble, o apprendimento di insieme. Questo si basa su un unico principio: Un modello costruito mettendo insieme piu modelli è piu stabile e robusto dei modelli presi singolarmente. Quindi creando un modello tramite l'apprendimento ensemble si ottiene una migliore generalizzazione su dati sconosciuti e si abbassa il rischio di overfitting.\n",
    "\n",
    "Una random forest usa l'apprendimento ensemble mettendo insieme piu alberi decisionali.\n",
    "Si sceglie il numero di alberi che andranno a comporre la foresta.\n",
    "un sottoinsieme casuale da dalaset e lo si utilizza per creare un albero decisionale.\n",
    "Poi si ripetono gli ultimi due passaggi fino ad aver ottenuto tutti gli alberi che ci eravamo prefissati di creare.\n",
    "Ora per eseguire una classificazione dovremo usare tutti gli alberi, ottenere una predizione per ognuno di essi e poi fare una media delle varie predizioni. Il risultato sara la predizione della random forest.\n",
    "Il grosso vantaggio della foresta casuale è che ha un numero minimo di iperparametri, infatti l'unico di cui dobbiamo realmente preoccuparci è il numero di alberi che la formano. Solitamente un numeor di default è 10, ma incrementandolo si potrebbero ottenere risultati migliori, con il rischio di andare a consumare una quantita eccessiva di risorse di calcolo.\n",
    "\n",
    "#### Random forest con Python\n"
   ]
  },
  {
   "cell_type": "markdown",
   "metadata": {},
   "source": [
    "Riprendiamo il lavoro gia fatto sul dataset del titanic, per provare a implementare una random forest.\n",
    "Le random forest sono dei modelli di insieme (ensamble method), e permette di creare diversi alberi decisionali e metterli insieme per creare un modello piu stabile e robusto.\n"
   ]
  },
  {
   "cell_type": "code",
   "execution_count": 32,
   "metadata": {},
   "outputs": [],
   "source": [
    "# importiamo la classe RandomForestClassifier da scikitlearn:\n",
    "\n",
    "from sklearn.ensemble import RandomForestClassifier"
   ]
  },
  {
   "cell_type": "code",
   "execution_count": 33,
   "metadata": {},
   "outputs": [],
   "source": [
    "# creimao il modello instanziando la classe e impostiamo il parametro random_state a false in modo da creare risultati\n",
    "# consistenti fra il modello che viene create nel video e quello che creo io:\n",
    "\n",
    "forest = RandomForestClassifier(random_state = False)"
   ]
  },
  {
   "cell_type": "code",
   "execution_count": 34,
   "metadata": {},
   "outputs": [
    {
     "name": "stdout",
     "output_type": "stream",
     "text": [
      "ACCURACY: TRAIN= 0.9629  TEST= 0.8127\n"
     ]
    },
    {
     "name": "stderr",
     "output_type": "stream",
     "text": [
      "C:\\ProgramData\\Anaconda3\\lib\\site-packages\\sklearn\\ensemble\\forest.py:245: FutureWarning: The default value of n_estimators will change from 10 in version 0.20 to 100 in 0.22.\n",
      "  \"10 in version 0.20 to 100 in 0.22.\", FutureWarning)\n"
     ]
    }
   ],
   "source": [
    "# addestriamo il modello:\n",
    "forest.fit(X_train, Y_train)\n",
    "\n",
    "# e andiamo a eseguire delle predizioni su trainset e testset\n",
    "#n in modo da poterli usare per calcolare l'accuracy e verificare la presenza di overfitting:\n",
    "\n",
    "Y_pred_train = forest.predict(X_train)\n",
    "Y_pred = forest.predict(X_test)\n",
    "\n",
    "accuracy_train = accuracy_score(Y_train, Y_pred_train)\n",
    "accuracy_test = accuracy_score(Y_test, Y_pred)\n",
    "\n",
    "# stampiamo il risultato:\n",
    "\n",
    "print(\"ACCURACY: TRAIN= %.4f  TEST= %.4f\" %(accuracy_train, accuracy_test))"
   ]
  },
  {
   "cell_type": "markdown",
   "metadata": {},
   "source": [
    "Il modello soffre di overfitting. Andiamo allora a limitare la profondita massima degli alberi decisionali:"
   ]
  },
  {
   "cell_type": "code",
   "execution_count": 35,
   "metadata": {},
   "outputs": [
    {
     "name": "stdout",
     "output_type": "stream",
     "text": [
      "ACCURACY: TRAIN= 0.9177  TEST= 0.8352\n"
     ]
    },
    {
     "name": "stderr",
     "output_type": "stream",
     "text": [
      "C:\\ProgramData\\Anaconda3\\lib\\site-packages\\sklearn\\ensemble\\forest.py:245: FutureWarning: The default value of n_estimators will change from 10 in version 0.20 to 100 in 0.22.\n",
      "  \"10 in version 0.20 to 100 in 0.22.\", FutureWarning)\n"
     ]
    }
   ],
   "source": [
    "forest = RandomForestClassifier(random_state = False, max_depth = 8)\n",
    "\n",
    "forest.fit(X_train, Y_train)\n",
    "\n",
    "Y_pred_train = forest.predict(X_train)\n",
    "Y_pred = forest.predict(X_test)\n",
    "\n",
    "accuracy_train = accuracy_score(Y_train, Y_pred_train)\n",
    "accuracy_test = accuracy_score(Y_test, Y_pred)\n",
    "\n",
    "print(\"ACCURACY: TRAIN= %.4f  TEST= %.4f\" %(accuracy_train, accuracy_test))\n"
   ]
  },
  {
   "cell_type": "markdown",
   "metadata": {},
   "source": [
    "Va gia meglio. Vediamo se riusciamo a fare ancora meglio aumentando il numero di alberi che alimentano la nostra foresta. Il numero di default di alberi è 10, aumentiamo a 30. Si fa tramite il parametro n_estimators della classe. Piu il numero di alberi è elevato e migliore sara l'accuratezza della classificazione, ma aumentera anche il tempo e le risorse necessarie al calcolo. Per dataset piccoli, come questo che stiamo usando, il problema non sussiste.\n"
   ]
  },
  {
   "cell_type": "code",
   "execution_count": 36,
   "metadata": {},
   "outputs": [
    {
     "name": "stdout",
     "output_type": "stream",
     "text": [
      "ACCURACY: TRAIN= 0.9161  TEST= 0.8577\n"
     ]
    }
   ],
   "source": [
    "forest = RandomForestClassifier(random_state = False, max_depth = 8, n_estimators = 30)\n",
    "\n",
    "forest.fit(X_train, Y_train)\n",
    "\n",
    "Y_pred_train = forest.predict(X_train)\n",
    "Y_pred = forest.predict(X_test)\n",
    "\n",
    "accuracy_train = accuracy_score(Y_train, Y_pred_train)\n",
    "accuracy_test = accuracy_score(Y_test, Y_pred)\n",
    "\n",
    "print(\"ACCURACY: TRAIN= %.4f  TEST= %.4f\" %(accuracy_train, accuracy_test))"
   ]
  },
  {
   "cell_type": "markdown",
   "metadata": {},
   "source": [
    "Il risultato è ancora migliore."
   ]
  },
  {
   "cell_type": "markdown",
   "metadata": {},
   "source": [
    "### Macchine a vettori di supporto (SVM, Support Vectore Machines)\n",
    "\n",
    "E' un modello di classificazione lineare.\n",
    "Il problema della classificazione viene affrontato in maniera diversa da quanto visto fino ad ora.\n",
    "Infatti lo scopo di una SVM è trovare la retta che massimizza il margine fra le classi, cioè lo spazio che le separa, e lo fa utilizzando una minuscola parte del dataset. Gli esempi che vengono usati in questa fase vengono ciamati Vettori di supporto, perche sono gli unici che supportano la creazione del modello. Tutti gli altri esempi sono ininfluenti per il modello.\n",
    "Questo approcchio offre alcuni vantaggi:\n",
    "una ottima resistenza agli outlayers, dato che non li considera proprio.\n",
    "\n",
    "Un margine maggiore che separa le classi corrisponde ad errore di generalizzazione minore e quindi ad un modello migliore.\n",
    "Una svm usa un approccio all'apprendimento che si puo riassumere con la seguente frase: 'Se riesco a classificare i casi piu difficili allora classificare gli altri sara una passeggiata'. ( i casi piu difficili sono quelli che ricadono vicino alla curva che separa le classi) dal video della lezione 41 è tutto piu chiaro...\n"
   ]
  },
  {
   "cell_type": "markdown",
   "metadata": {},
   "source": [
    "Ora costruiamo una Macchina a vettori di supporto, SVM, per classificare i fiori dell' Iris dataset in base alla classe di appartenenza."
   ]
  },
  {
   "cell_type": "code",
   "execution_count": 37,
   "metadata": {},
   "outputs": [],
   "source": [
    "# importiamo le librerie necessarie:\n",
    "\n",
    "import pandas as pd\n",
    "import numpy as np\n",
    "import matplotlib.pyplot as plt\n",
    "from sklearn.model_selection import train_test_split\n",
    "from sklearn.preprocessing import LabelEncoder\n",
    "from sklearn.preprocessing import StandardScaler\n"
   ]
  },
  {
   "cell_type": "code",
   "execution_count": 38,
   "metadata": {},
   "outputs": [
    {
     "name": "stdout",
     "output_type": "stream",
     "text": [
      "<class 'pandas.core.frame.DataFrame'>\n",
      "RangeIndex: 150 entries, 0 to 149\n",
      "Data columns (total 5 columns):\n",
      "sepal length    150 non-null float64\n",
      "sepal width     150 non-null float64\n",
      "petal length    150 non-null float64\n",
      "petal width     150 non-null float64\n",
      "class           150 non-null object\n",
      "dtypes: float64(4), object(1)\n",
      "memory usage: 6.0+ KB\n"
     ]
    }
   ],
   "source": [
    "# e carichiamo il dataset direttamente da dall'archivio dell'uci:\n",
    "iris = pd.read_csv(\"https://archive.ics.uci.edu/ml/machine-learning-databases/iris/iris.data\", names=[\"sepal length\",\"sepal width\",\"petal length\",\"petal width\",\"class\"])\n",
    "iris.info()"
   ]
  },
  {
   "cell_type": "markdown",
   "metadata": {},
   "source": [
    "Abbiamo a disposizione 150 esempi, ognuno con 5 colonne: 4 proprieta e un target"
   ]
  },
  {
   "cell_type": "code",
   "execution_count": 39,
   "metadata": {},
   "outputs": [
    {
     "data": {
      "text/html": [
       "<div>\n",
       "<style scoped>\n",
       "    .dataframe tbody tr th:only-of-type {\n",
       "        vertical-align: middle;\n",
       "    }\n",
       "\n",
       "    .dataframe tbody tr th {\n",
       "        vertical-align: top;\n",
       "    }\n",
       "\n",
       "    .dataframe thead th {\n",
       "        text-align: right;\n",
       "    }\n",
       "</style>\n",
       "<table border=\"1\" class=\"dataframe\">\n",
       "  <thead>\n",
       "    <tr style=\"text-align: right;\">\n",
       "      <th></th>\n",
       "      <th>sepal length</th>\n",
       "      <th>sepal width</th>\n",
       "      <th>petal length</th>\n",
       "      <th>petal width</th>\n",
       "      <th>class</th>\n",
       "    </tr>\n",
       "  </thead>\n",
       "  <tbody>\n",
       "    <tr>\n",
       "      <td>0</td>\n",
       "      <td>5.1</td>\n",
       "      <td>3.5</td>\n",
       "      <td>1.4</td>\n",
       "      <td>0.2</td>\n",
       "      <td>Iris-setosa</td>\n",
       "    </tr>\n",
       "    <tr>\n",
       "      <td>1</td>\n",
       "      <td>4.9</td>\n",
       "      <td>3.0</td>\n",
       "      <td>1.4</td>\n",
       "      <td>0.2</td>\n",
       "      <td>Iris-setosa</td>\n",
       "    </tr>\n",
       "    <tr>\n",
       "      <td>2</td>\n",
       "      <td>4.7</td>\n",
       "      <td>3.2</td>\n",
       "      <td>1.3</td>\n",
       "      <td>0.2</td>\n",
       "      <td>Iris-setosa</td>\n",
       "    </tr>\n",
       "    <tr>\n",
       "      <td>3</td>\n",
       "      <td>4.6</td>\n",
       "      <td>3.1</td>\n",
       "      <td>1.5</td>\n",
       "      <td>0.2</td>\n",
       "      <td>Iris-setosa</td>\n",
       "    </tr>\n",
       "    <tr>\n",
       "      <td>4</td>\n",
       "      <td>5.0</td>\n",
       "      <td>3.6</td>\n",
       "      <td>1.4</td>\n",
       "      <td>0.2</td>\n",
       "      <td>Iris-setosa</td>\n",
       "    </tr>\n",
       "  </tbody>\n",
       "</table>\n",
       "</div>"
      ],
      "text/plain": [
       "   sepal length  sepal width  petal length  petal width        class\n",
       "0           5.1          3.5           1.4          0.2  Iris-setosa\n",
       "1           4.9          3.0           1.4          0.2  Iris-setosa\n",
       "2           4.7          3.2           1.3          0.2  Iris-setosa\n",
       "3           4.6          3.1           1.5          0.2  Iris-setosa\n",
       "4           5.0          3.6           1.4          0.2  Iris-setosa"
      ]
     },
     "execution_count": 39,
     "metadata": {},
     "output_type": "execute_result"
    }
   ],
   "source": [
    "# vediamo i primi 5 esempi del dataset:\n",
    "iris.head()"
   ]
  },
  {
   "cell_type": "markdown",
   "metadata": {},
   "source": [
    "La variabile target è rappresentata da una stringa e quindi dobbiamo fare l'encoding.\n",
    "Per prima cosa pero creiamo gli array numpy:"
   ]
  },
  {
   "cell_type": "code",
   "execution_count": 40,
   "metadata": {},
   "outputs": [],
   "source": [
    "X = iris.drop(\"class\", axis = 1).values\n",
    "Y = iris[\"class\"].values"
   ]
  },
  {
   "cell_type": "code",
   "execution_count": 41,
   "metadata": {},
   "outputs": [],
   "source": [
    "# creiamo gli array per addestramento e test:\n",
    "\n",
    "X_train, X_test, Y_train, Y_test = train_test_split(X,Y, test_size = 0.3, random_state = 0)"
   ]
  },
  {
   "cell_type": "code",
   "execution_count": 42,
   "metadata": {},
   "outputs": [],
   "source": [
    "# ora possimao fare l'encoding:\n",
    "#instaziamo la classe LabelEncoder:\n",
    "le = LabelEncoder()\n",
    "Y_train = le.fit_transform(Y_train)\n",
    "Y_test = le.transform(Y_test)"
   ]
  },
  {
   "cell_type": "code",
   "execution_count": 43,
   "metadata": {},
   "outputs": [],
   "source": [
    "# possiamo standardizzare i valori visto che sono in un range leggermente differente:\n",
    "# instanziamo la classe standardScaler:\n",
    "\n",
    "ss = StandardScaler()\n",
    "X_train = ss.fit_transform(X_train)\n",
    "X_test = ss.transform(X_test)"
   ]
  },
  {
   "cell_type": "code",
   "execution_count": 44,
   "metadata": {},
   "outputs": [],
   "source": [
    "# Il dataset è pronto. Cominciamo costruendo un modello usando solo due proprieta, \n",
    "# in modo poi da poter poi visualizzare i bordi decisionali (decision boundary) che il modello ha imparato dai dati.\n",
    "\n",
    "# quindi creiamo un sotto-dataset contenente soltanto due proprieta, le prime due:\n",
    "\n",
    "X2_train = X_train[:,:2]\n",
    "X2_test = X_test[:,:2]"
   ]
  },
  {
   "cell_type": "code",
   "execution_count": 45,
   "metadata": {},
   "outputs": [],
   "source": [
    "# adesso costruiamo la nostra prima SVM e addestriamola su questi dataset:\n",
    "# importiamo la classe linearSVC da scikitlearn:\n",
    "\n",
    "from sklearn.svm import LinearSVC"
   ]
  },
  {
   "cell_type": "code",
   "execution_count": 46,
   "metadata": {},
   "outputs": [
    {
     "data": {
      "text/plain": [
       "LinearSVC(C=1.0, class_weight=None, dual=True, fit_intercept=True,\n",
       "          intercept_scaling=1, loss='squared_hinge', max_iter=1000,\n",
       "          multi_class='ovr', penalty='l2', random_state=None, tol=0.0001,\n",
       "          verbose=0)"
      ]
     },
     "execution_count": 46,
     "metadata": {},
     "output_type": "execute_result"
    }
   ],
   "source": [
    "# instanziamo la classe:\n",
    "svc = LinearSVC()\n",
    "svc.fit(X2_train, Y_train)"
   ]
  },
  {
   "cell_type": "code",
   "execution_count": 47,
   "metadata": {},
   "outputs": [
    {
     "name": "stdout",
     "output_type": "stream",
     "text": [
      "ACCURACY con 2 proprietà: Train=0.8286 Test=0.6889\n"
     ]
    }
   ],
   "source": [
    "# e calcoliamo le nostre metriche. Non si puo calcolare la log_loss, perche questa ha bisogno non delle predizione delle \n",
    "#classi, ma della probabilita di appartenenza ad una classe, e una SVM non calcola direttamente le probabilita. \n",
    "# per farlo c'è bisogno di ulteriori passaggi che rallentano sensibilmente i processo.\n",
    "# Quindi calcoliamo l'accuracy: per farlo usiamo direttamente il metodo score della classe svc,\n",
    "# che prende in input direttamente le proprieta, esegue la predizione e calcola l'accuracy.\n",
    "\n",
    "print(\"ACCURACY con 2 proprietà: Train=%.4f Test=%.4f\" % (svc.score(X2_train, Y_train), svc.score(X2_test, Y_test)))"
   ]
  },
  {
   "cell_type": "markdown",
   "metadata": {},
   "source": [
    "Questo modello presenta overfitting. Potremmo provare a migliorarlo lavorando sul parametro di regolarizzazione, in questo caso c, ma non ne vale la pena dato che è un modello che abbiamo costruito soltanto per poter visualizzare i bordi decisionali. Quindi piuttosto stampiamo i bordi e poi andiamo a costruire il modello definitivo con tutte le proprieta.\n",
    "\n",
    "Per visualizzare i bordi usiamo una funzione scritta dal tipo del video,plot_bounds, che sta nel notebook relativo a uesta lezione."
   ]
  },
  {
   "cell_type": "code",
   "execution_count": 48,
   "metadata": {},
   "outputs": [],
   "source": [
    "import matplotlib.pyplot as plt\n",
    "import numpy as np\n",
    "from matplotlib.colors import ListedColormap"
   ]
  },
  {
   "cell_type": "code",
   "execution_count": 19,
   "metadata": {},
   "outputs": [],
   "source": [
    "def plot_bounds(X,Y,model=None,classes=None, figsize=(8,6)):\n",
    "        \n",
    "    plt.figure(figsize=figsize)\n",
    "        \n",
    "    if(model):\n",
    "        X_train, X_test = X\n",
    "        Y_train, Y_test = Y\n",
    "        X = np.vstack([X_train, X_test])\n",
    "        x_min, x_max = X[:, 0].min() - .5, X[:, 0].max() + .5\n",
    "        y_min, y_max = X[:, 1].min() - .5, X[:, 1].max() + .5\n",
    "\n",
    "        xx, yy = np.meshgrid(np.arange(x_min, x_max, .02),\n",
    "                             np.arange(y_min, y_max, .02))\n",
    "\n",
    "        if hasattr(model, \"predict_proba\"):\n",
    "            Z = model.predict_proba(np.c_[xx.ravel(), yy.ravel()])[:, 1]\n",
    "        else:\n",
    "            Z = model.predict(np.c_[xx.ravel(), yy.ravel()])\n",
    "            \n",
    "        Z = Z.reshape(xx.shape)\n",
    "\n",
    "        plt.contourf(xx, yy, Z, alpha=.8)\n",
    "\n",
    "    plt.scatter(X_train[:,0], X_train[:,1], c=Y_train)\n",
    "    plt.scatter(X_test[:,0], X_test[:,1], c=Y_test, alpha=0.6)\n",
    "    \n",
    "    plt.show()\n"
   ]
  },
  {
   "cell_type": "code",
   "execution_count": 51,
   "metadata": {},
   "outputs": [
    {
     "data": {
      "image/png": "[encoded data removed]",
      "text/plain": [
       "<Figure size 864x576 with 1 Axes>"
      ]
     },
     "metadata": {
      "needs_background": "light"
     },
     "output_type": "display_data"
    }
   ],
   "source": [
    "plot_bounds((X2_train,X2_test),(Y_train,Y_test),svc,figsize=(12,8))"
   ]
  },
  {
   "cell_type": "markdown",
   "metadata": {},
   "source": [
    "Un SVM cosi come l'abbiamo usata adesso è un modello di classificazione lineare, per questo i bordi decisionali sono lineari.\n",
    "Comunque è riuscito a classificare perfettamente la classe in viola, mentre per le altre due classi ci sono un po di problemi, ma considerando come sono distribuiti i dati, questo dataset avrebbe creato molti grattacapi anche con un modello di classificazione non lineare.\n",
    "Proviamo adesso a costruire un modello usando tutte le proprieta:\n"
   ]
  },
  {
   "cell_type": "code",
   "execution_count": 52,
   "metadata": {},
   "outputs": [
    {
     "data": {
      "text/plain": [
       "LinearSVC(C=1.0, class_weight=None, dual=True, fit_intercept=True,\n",
       "          intercept_scaling=1, loss='squared_hinge', max_iter=1000,\n",
       "          multi_class='ovr', penalty='l2', random_state=None, tol=0.0001,\n",
       "          verbose=0)"
      ]
     },
     "execution_count": 52,
     "metadata": {},
     "output_type": "execute_result"
    }
   ],
   "source": [
    "# Riutilizziamo la classe gia usata svc e rifacciamo l'addestramento sul dataset con tutte le proprieta:\n",
    "svc.fit(X_train, Y_train)"
   ]
  },
  {
   "cell_type": "code",
   "execution_count": 54,
   "metadata": {},
   "outputs": [
    {
     "name": "stdout",
     "output_type": "stream",
     "text": [
      "ACCURACY con tutte le  proprietà: Train=0.9429 Test=0.9556\n"
     ]
    }
   ],
   "source": [
    "print(\"ACCURACY con tutte le  proprietà: Train=%.4f Test=%.4f\" % (svc.score(X_train, Y_train), svc.score(X_test, Y_test)))"
   ]
  },
  {
   "cell_type": "markdown",
   "metadata": {},
   "source": [
    "I risultati sono migliori"
   ]
  },
  {
   "cell_type": "markdown",
   "metadata": {},
   "source": [
    "### Kernel SVM\n",
    "\n",
    "vediamo come è possibile usare una SVM per eseguire classificazioni non lineari, usando il Kernel Trick.\n",
    "guarda il video della lezione 43.\n",
    "i dati non sono divisibili in classi tramite una retta.\n",
    "Il kernel trick usa una funzione Kernel, hè è sostanzialmente una metrica della somiglianza fra due esempi.\n",
    "Ne esistono diverse e la piu usata è il kernel gaussiano, noto come radial basis e spesso abbreviato in rbf.E' il kernel generico da usare quando non si sa come operare.\n",
    "Quando due esempi sono molto diversi questa funzione tende a 0, mentre quando sonomolto simili tende a 1.\n",
    "La costante sigma è un parametro che dobbiamo impostare noi, e controlla la sensibilita alla differenza fra due esempi. Con un valore di sigma piu piccolo, una differena maggiore fra due esempi sara maggiormente penalizzata, e quindi tendera a 0 piu facilmente.\n",
    "\n",
    "Altri kernel cono il sigmoidale e il polinomiale, che sebbene nella pratica non abbiano gli stessi risultati diel rbf, vale la pena provarli durante la fase del tuning degli iperparametri nel caso in cui i risultati dati dall' rbf non siano soddisfacenti."
   ]
  },
  {
   "cell_type": "markdown",
   "metadata": {},
   "source": [
    "##### Kernel SVM in Python\n",
    "Useremo una SVM insieme a  d una funzione kernel per eseguire delle classificaizoni su un dataset che presenta delle relazioni non lineari. A questo scop creeremo ad hoc un dataset. Per farlo scikitlearn ci mette a disposizione diverse funzioni. Una di qeste è make_circles."
   ]
  },
  {
   "cell_type": "code",
   "execution_count": 2,
   "metadata": {},
   "outputs": [],
   "source": [
    "import numpy as np\n",
    "import matplotlib.pyplot as plt\n",
    "from sklearn.model_selection import train_test_split"
   ]
  },
  {
   "cell_type": "code",
   "execution_count": 3,
   "metadata": {},
   "outputs": [],
   "source": [
    "from sklearn.datasets import make_circles"
   ]
  },
  {
   "cell_type": "code",
   "execution_count": 4,
   "metadata": {},
   "outputs": [],
   "source": [
    "X, Y = make_circles(noise = 0.2, factor = 0.5, random_state=1)\n",
    "# il parametro noise ci permette di aggiungere rumore ai dati,\n",
    "# il parametro factor = 0.5 fa in modo che gli esempi della classe positiva siano distribuiti verso il centro del grafico\n",
    "# random state=1 fa in modo che il dataset che ottienee nel video sia uguale a quello che ottengo io.\n"
   ]
  },
  {
   "cell_type": "code",
   "execution_count": 5,
   "metadata": {},
   "outputs": [
    {
     "data": {
      "text/plain": [
       "(100, 2)"
      ]
     },
     "execution_count": 5,
     "metadata": {},
     "output_type": "execute_result"
    }
   ],
   "source": [
    "X.shape"
   ]
  },
  {
   "cell_type": "markdown",
   "metadata": {},
   "source": [
    "Il dataset che abbiamo appena costruito contiene 100 esempi e 2 proprieta.\n",
    "\n",
    "Proviamo a costruire uno scatterplot per vedere come sono distribuiti i dati:\n",
    "mettiamo la prima proprieta come cordinata x e la seconda proprieta come cordinata y, e usiamo il target per specificare il colore del pallino."
   ]
  },
  {
   "cell_type": "code",
   "execution_count": 6,
   "metadata": {},
   "outputs": [
    {
     "data": {
      "text/plain": [
       "<matplotlib.collections.PathCollection at 0x1c5b71e8588>"
      ]
     },
     "execution_count": 6,
     "metadata": {},
     "output_type": "execute_result"
    },
    {
     "data": {
      "image/png": "[encoded data removed]",
      "text/plain": [
       "<Figure size 432x288 with 1 Axes>"
      ]
     },
     "metadata": {
      "needs_background": "light"
     },
     "output_type": "display_data"
    }
   ],
   "source": [
    "plt.scatter(X[:,0],X[:,1], c=Y)"
   ]
  },
  {
   "cell_type": "markdown",
   "metadata": {},
   "source": [
    "Vediamo se riusciamo a eseguire una classificazione:\n",
    "    "
   ]
  },
  {
   "cell_type": "code",
   "execution_count": 7,
   "metadata": {},
   "outputs": [],
   "source": [
    "# creiamo gli array per addestramento e test:\n",
    "X_train, X_test, Y_train, Y_test = train_test_split(X, Y, test_size = 0.3, random_state = 0)"
   ]
  },
  {
   "cell_type": "code",
   "execution_count": 9,
   "metadata": {},
   "outputs": [],
   "source": [
    "# adesso costruiamo la nostra Kernel SVM, ovvero la macchina a vettori di supporto(SVM) che utilizza una funzione kernel \n",
    "# per proiettare i dati in uno spazio dimensionale maggiore su cui poi provare ad eseguire la classificazione:\n",
    "# quindi importiamo la classe svc di scikitlearn:\n",
    "\n",
    "from sklearn.svm import SVC\n",
    "\n",
    "# la instanziamo specificando all'interno del parametro kernel la funzione kernel che vogliamo utuilizzare: \n",
    "# iniziamo dalla lineare, che equivale ad usare la classe Linear_svc che abbiamo gia usato in precedenza.\n",
    "# impostiamo anche il parametro probability a True per fare in modo che questa volta la SVM calcoli anche \n",
    "# la probabilita di appartenenza ad una classe. Questo in generale rallenta di molto i calcoli, ma per un dataset cosi piccolo \n",
    "# va bene lo stesso.\n",
    "\n",
    "\n",
    "svc = SVC(kernel = \"linear\", probability = True) \n",
    "\n"
   ]
  },
  {
   "cell_type": "code",
   "execution_count": 14,
   "metadata": {},
   "outputs": [
    {
     "data": {
      "text/plain": [
       "SVC(C=1.0, cache_size=200, class_weight=None, coef0=0.0,\n",
       "    decision_function_shape='ovr', degree=3, gamma='auto_deprecated',\n",
       "    kernel='linear', max_iter=-1, probability=True, random_state=None,\n",
       "    shrinking=True, tol=0.001, verbose=False)"
      ]
     },
     "execution_count": 14,
     "metadata": {},
     "output_type": "execute_result"
    }
   ],
   "source": [
    "# eseguiamo l'addestramento:\n",
    "\n",
    "svc.fit(X_train, Y_train)"
   ]
  },
  {
   "cell_type": "code",
   "execution_count": 17,
   "metadata": {},
   "outputs": [
    {
     "name": "stdout",
     "output_type": "stream",
     "text": [
      "ACCURACY: Train=0.5143 Test=0.4667\n"
     ]
    }
   ],
   "source": [
    "# e calcoliamo l'accuracy:\n",
    "\n",
    "print(\"ACCURACY: Train=%.4f Test=%.4f\" % (svc.score(X_train, Y_train), svc.score(X_test,Y_test)))"
   ]
  },
  {
   "cell_type": "markdown",
   "metadata": {},
   "source": [
    "I risultati sono molto scarsi.\n",
    "Proviamo a visualizzare i decision boundary che il modello ha appreso con la funzione plot_bounds:\n"
   ]
  },
  {
   "cell_type": "code",
   "execution_count": 20,
   "metadata": {},
   "outputs": [
    {
     "data": {
      "image/png": "[encoded data removed]",
      "text/plain": [
       "<Figure size 576x432 with 1 Axes>"
      ]
     },
     "metadata": {
      "needs_background": "light"
     },
     "output_type": "display_data"
    }
   ],
   "source": [
    "plot_bounds((X_train, X_test),(Y_train, Y_test),svc)"
   ]
  },
  {
   "cell_type": "markdown",
   "metadata": {},
   "source": [
    "I decision bundary sono lineari, un colore piu marcato verso il giallo o verso il viola rappresenta indica una probabilita maggiore di apparteneneza ad una o l'altra classe.\n",
    "\n",
    "Ora proviamo con un altro kernel: il kernel gaussaino (o radial basis, abbreviato con rbf):"
   ]
  },
  {
   "cell_type": "code",
   "execution_count": 21,
   "metadata": {},
   "outputs": [
    {
     "name": "stdout",
     "output_type": "stream",
     "text": [
      "ACCURACY: Train=0.9143 Test=0.9000\n"
     ]
    },
    {
     "name": "stderr",
     "output_type": "stream",
     "text": [
      "C:\\ProgramData\\Anaconda3\\lib\\site-packages\\sklearn\\svm\\base.py:193: FutureWarning: The default value of gamma will change from 'auto' to 'scale' in version 0.22 to account better for unscaled features. Set gamma explicitly to 'auto' or 'scale' to avoid this warning.\n",
      "  \"avoid this warning.\", FutureWarning)\n"
     ]
    }
   ],
   "source": [
    "svc = SVC(kernel = \"rbf\", probability = True) \n",
    "\n",
    "\n",
    "svc.fit(X_train, Y_train)\n",
    "\n",
    "print(\"ACCURACY: Train=%.4f Test=%.4f\" % (svc.score(X_train, Y_train), svc.score(X_test,Y_test)))"
   ]
  },
  {
   "cell_type": "code",
   "execution_count": 22,
   "metadata": {},
   "outputs": [
    {
     "data": {
      "image/png": "[encoded data removed]",
      "text/plain": [
       "<Figure size 576x432 with 1 Axes>"
      ]
     },
     "metadata": {
      "needs_background": "light"
     },
     "output_type": "display_data"
    }
   ],
   "source": [
    "plot_bounds((X_train, X_test),(Y_train, Y_test),svc)"
   ]
  },
  {
   "cell_type": "markdown",
   "metadata": {},
   "source": [
    "Il risultato è totalmente diverso: è riuscito a classificare bene sia gli esempi del train che del test set.\n",
    "\n",
    "Proviamo a testare anche le altre funzioni kernel, il kernel sigmoidale e polinomiale, anche se l'rbf è sempre migliore di questi."
   ]
  },
  {
   "cell_type": "code",
   "execution_count": 23,
   "metadata": {},
   "outputs": [
    {
     "name": "stdout",
     "output_type": "stream",
     "text": [
      "ACCURACY: Train=0.5143 Test=0.4667\n"
     ]
    },
    {
     "name": "stderr",
     "output_type": "stream",
     "text": [
      "C:\\ProgramData\\Anaconda3\\lib\\site-packages\\sklearn\\svm\\base.py:193: FutureWarning: The default value of gamma will change from 'auto' to 'scale' in version 0.22 to account better for unscaled features. Set gamma explicitly to 'auto' or 'scale' to avoid this warning.\n",
      "  \"avoid this warning.\", FutureWarning)\n"
     ]
    }
   ],
   "source": [
    "# kernel sigmoidale:\n",
    "\n",
    "svc = SVC(kernel = \"sigmoid\", probability = True) \n",
    "\n",
    "\n",
    "svc.fit(X_train, Y_train)\n",
    "\n",
    "print(\"ACCURACY: Train=%.4f Test=%.4f\" % (svc.score(X_train, Y_train), svc.score(X_test,Y_test)))"
   ]
  },
  {
   "cell_type": "code",
   "execution_count": 24,
   "metadata": {},
   "outputs": [
    {
     "data": {
      "image/png": "[encoded data removed]",
      "text/plain": [
       "<Figure size 576x432 with 1 Axes>"
      ]
     },
     "metadata": {
      "needs_background": "light"
     },
     "output_type": "display_data"
    }
   ],
   "source": [
    "plot_bounds((X_train, X_test),(Y_train, Y_test),svc)"
   ]
  },
  {
   "cell_type": "markdown",
   "metadata": {},
   "source": [
    "I risultati non sono soddisfacenti.\n"
   ]
  },
  {
   "cell_type": "code",
   "execution_count": 26,
   "metadata": {},
   "outputs": [
    {
     "name": "stdout",
     "output_type": "stream",
     "text": [
      "ACCURACY: Train=0.5143 Test=0.4667\n"
     ]
    },
    {
     "name": "stderr",
     "output_type": "stream",
     "text": [
      "C:\\ProgramData\\Anaconda3\\lib\\site-packages\\sklearn\\svm\\base.py:193: FutureWarning: The default value of gamma will change from 'auto' to 'scale' in version 0.22 to account better for unscaled features. Set gamma explicitly to 'auto' or 'scale' to avoid this warning.\n",
      "  \"avoid this warning.\", FutureWarning)\n"
     ]
    }
   ],
   "source": [
    "# kernel polinomiale:\n",
    "\n",
    "svc = SVC(kernel = \"poly\", probability = True) \n",
    "\n",
    "\n",
    "svc.fit(X_train, Y_train)\n",
    "\n",
    "print(\"ACCURACY: Train=%.4f Test=%.4f\" % (svc.score(X_train, Y_train), svc.score(X_test,Y_test)))"
   ]
  },
  {
   "cell_type": "code",
   "execution_count": 27,
   "metadata": {},
   "outputs": [
    {
     "data": {
      "image/png": "[encoded data removed]",
      "text/plain": [
       "<Figure size 576x432 with 1 Axes>"
      ]
     },
     "metadata": {
      "needs_background": "light"
     },
     "output_type": "display_data"
    }
   ],
   "source": [
    "plot_bounds((X_train, X_test),(Y_train, Y_test),svc)"
   ]
  },
  {
   "cell_type": "markdown",
   "metadata": {},
   "source": [
    "Il risultato non è soddisfacente.\n",
    "\n",
    "Ci sono comunque rari casi in cui questi kernel danno risultati migliori dell rbf."
   ]
  },
  {
   "cell_type": "markdown",
   "metadata": {},
   "source": [
    "## Reti Neurali Artificiali (ANN)\n",
    "\n",
    "Sono un modello di machine learning bio-inspired, ovvero prende spunto dall'aoparato di apprendimento umano, il cervello.\n",
    "Il meccanismo con cui funziona il cervello (un processo composto da potenziali di azioni e soglie di attivazione)  è simile ad un modello di classificazione generico, che viene chiamato Percettrone.\n",
    "In un percettrone, z che è la somma dei prodotti dei pesi per le proprieta è il otensiale d'azione, e la funzione di attivazione costituisce la soglia di attivazione. Infati la funzione di attivazione puo essere vista come una soglia, solitamente di 0.5, che sta all'interno di un range compreso fra 0 e 1 , che appunto se viene superata classifica l'esempio come appartenente alla classe positiva, come abbiamo gia visto con la regressione logistica, che non è altro che un caso particolare di percettrone.\n",
    "Esistono diverse funzioni di attivazione:\n",
    "La Step-function\n",
    "La Sigmoide, che abbiamo visto che è la funzione di attivazione di una regressione logistica\n",
    "La Rectified Linear Unit (ReLU), che non fa alto che portare a 0 valori di z negativi, oppure la tangente iperbolica, che sembra la sigmoide, ma va a -1 a 1 e non da 0 a 1.\n",
    "\n",
    "Abbiamo visto come i metodi ensemble c permettono di ottenere un modello robusto mettendo inseiem modelli piu deboli.\n",
    "Pensiamo di fare una cosa simile con diversi percettroni, cercando di replicare il funzionamento delle reti neurali del nostro cervello. Cosi si ottiene una Rete Neurale Artificiale (ANN),nello specifico un modello noto come Percettrone multistrato (multilayer perceptron, MLP).\n",
    "C'è un alyer di input con le nostre proprieta. Costruiamo un modello di classificazione inizializzando i pesi ad un valore casuale e normalizzando le proprieta per portarle in un range di valori comoreso fra 0 e 1.\n",
    "Ogni arco rappresenta un peso. Il modello calcolera il potenziale d'azione, z, sommando i prodotti di pesi e proprieta, ed un attivazione applicando la funzione di attivazione a z.\n",
    "Potremmo usare il valore cosi ottenuto come la nostra predizione, invece no. Ripetiamo questo processo, sempre inizializzando i nostri pesi ad un valore random, fino ad ottenere 4 modelli, quindi 4 nodi (4 neuroni) (4 è un numero preso a caso...).\n",
    "Ora abbiamo 4 modelli che ci forniscono 4 output, che sono compresi ne range di valori 0 - 1 perche abbiamo applicato la funzione di attivazione ad ognuno dei modelli. E' lo stesso range delle proprieta, dato che le abbiamo normalizzate. Allora facciamo finta che le 4 attivazioni dei 4 modelli siano le nostre 4 proprieta di input, e usiamole per costruire un nuovo modello e ottenere una predizione, come se stessimo facendo una normale regressione logistica. Otteniamo la regressione della nostra rete neurale. Il livello intermedio è detto Hidden layer, e in questo livello la rete neurale usa pesi e proprieta del layer precedente per scoprire e ostruire nuove proprieta, permettendo alla rete di costruire relazioni non lineari anche molto complesse. \n",
    "Il numero di hidden layer e il numero dei neuroni (dei nodi) sono degli iperparametri che dobbiamo ottimizzare. \n",
    "Le reti neurali sono un modello estremamente potente quanto difficile da utilizzare ed ottimizzare. Per questo non vanno abusate , ma vanno usate solo quando modelli piu semplici, come la regressione logistica o alberi e foreste si rivelano inefficaci per il problema che stiamo affrontando.\n",
    "Abbiamo visto che ci sono diverse funzioni di attivazione. La scelta di tale funzione per i vari livelli è un iperparametro da ottimizzare, ma solitamente per il layer di output si usa la sigmoide, dato che restituisce anche la probabilita della correttezza della prediizone, mentre per gli hidden layer si usa la ReLU."
   ]
  },
  {
   "cell_type": "markdown",
   "metadata": {},
   "source": [
    "#### Addestramento di una Rete Neurale Artificiale"
   ]
  },
  {
   "cell_type": "markdown",
   "metadata": {},
   "source": [
    "Iniziamo da un semplice neurone, il percettrone. Come abbiamo gia iso per l'addestramento di un semplicemodello di machine learning possiamo usare l'algoritmo di ottimizzazione Gradient descend, che funziona cosi:\n",
    "inizializziamo i pesi ad un valore random e facciamo le predizioni per ogni esemi del trainset. Dop di che usiamo la funzione di costo per calcolare l'errore del nostro modello, che inizialmente sara molto alto. Poi facciamo uno step del gradient descend che tende a muovere i pesi verso valori che permettono di ottenere un errore minore, e sostituiamo i pesi cosi ottenuti con i pesi del nostro modello. Rifacciamo le predizioni e ripetiamo il processo per un determinato numero di volte, chiamato Epoche, in una sprta di loop che tendera a rendere l'errore sempre piu basso. Potremmo considerare l'addestramento concluso o quando abbiamo raggiunto il numero id epoche che ci eravamo prefissati, oppure quando l'errore è sufficienteente basso e quindi il modello è sufficientemente valido.\n",
    "Anche una rete neurale usa il gradient descend per ottimizzare i pesi, ma il discorso è molto piu complicato, e si presenta anche un grosso problema, ovvero che per eseguire il gradient descend è necessario sapere quanto il peso influenza l'errore della rete. Per un singolo percettrone non è un problema, ma per una rete neurale costituita da piu percettroni interconnessi lo è, infatti bisogna avere questa informazione per ogni peso di ogni layer, e non soltando di quelli direttamente connessi al layer di output.\n",
    "La BACKPROPAGATION affronta questo problema in maniera efficacie:\n",
    "propaga il segnale in avanti, ovvero da sinistra a destra, in un processo chiamato forward propagation, che non è altro che eseguire le predizioni. Calcolando poi l'errore della rete e facendo viaggiare questo valore indietro, da destra a sinistra, in un processo chiamato backward propagation.\n",
    "La matematica dietro alla Back Propagation è molto complessa. Quello che va tenuto in mente è che ci permette di sapere in che modo ogni peso di ogni nodo ha influenzato l'errore della rete, e sapendo questo possiamo utilizzare questo valore per eseguire il gradient descend ed aggiornare il valore dei pesi della rete in contemporanea.\n",
    "\n",
    "Poi fa vedere l'esempio della creazione di una rete neurale senza dover scrivere nessun codice, sul sito playground.tensorflow.org.\n"
   ]
  },
  {
   "cell_type": "markdown",
   "metadata": {},
   "source": [
    "### Multilayer perceptron in Python\n",
    "\n",
    "implementiamo un percettrone multistrato per classificare un dataset di immagini di cifre scritte a mano.\n",
    "Un rete neurale artificiale ha bisogno di un elevatissimo numero di esempi per poter essere addestrato correttamente. Per questo usiamo il dataset MNIST, che va scaricato da un sito.\n"
   ]
  },
  {
   "cell_type": "code",
   "execution_count": 40,
   "metadata": {},
   "outputs": [],
   "source": [
    "# importiamo le librerie necessarie:\n",
    "\n",
    "import matplotlib.pyplot as plt\n",
    "import numpy as np\n",
    "from sklearn.model_selection import train_test_split\n",
    "from sklearn.metrics import log_loss\n",
    "from sklearn.metrics import accuracy_score\n",
    "from sklearn.preprocessing import MinMaxScaler\n"
   ]
  },
  {
   "cell_type": "code",
   "execution_count": 45,
   "metadata": {},
   "outputs": [],
   "source": [
    "# i file scaricati sono in formato binario, e quindi per ottenere gli array numpy sfruttiamo\n",
    "# una funzione scritta dal tipo del video:\n",
    "\n",
    "import numpy as np\n",
    "import os\n",
    "import struct\n",
    "\n",
    "def load_mnist(path=\"/\"):\n",
    "    \n",
    "    train_labels_path = os.path.join(path,\"train-labels-idx1-ubyte\")\n",
    "    train_images_path = os.path.join(path,\"train-images-idx3-ubyte\")\n",
    "    \n",
    "    test_labels_path = os.path.join(path,\"t10k-labels-idx1-ubyte\")\n",
    "    test_images_path = os.path.join(path,\"t10k-images-idx3-ubyte\")\n",
    "    \n",
    "    labels_path = [train_labels_path, test_labels_path]\n",
    "    images_path = [train_images_path, test_images_path]\n",
    "        \n",
    "    labels = []\n",
    "    images = []\n",
    "        \n",
    "    for path in zip(labels_path, images_path):\n",
    "        \n",
    "        with open(path[0],'rb') as lbpath:\n",
    "            magic, n = struct.unpack('>II', lbpath.read(8))\n",
    "            lb = np.fromfile(lbpath, dtype=np.uint8)\n",
    "            labels.append(lb)\n",
    "            \n",
    "        with open(path[1], 'rb') as imgpath:\n",
    "            magic, num, rows, cols = struct.unpack(\">IIII\", imgpath.read(16))\n",
    "            images.append(np.fromfile(imgpath, dtype=np.uint8).reshape(len(lb), 784))\n",
    "            \n",
    "    return images[0], images[1], labels[0], labels[1]\n"
   ]
  },
  {
   "cell_type": "code",
   "execution_count": 48,
   "metadata": {},
   "outputs": [
    {
     "ename": "FileNotFoundError",
     "evalue": "[Errno 2] No such file or directory: 'MNIST\\\\train-labels-idx1-ubyte'",
     "output_type": "error",
     "traceback": [
      "\u001b[1;31m---------------------------------------------------------------------------\u001b[0m",
      "\u001b[1;31mFileNotFoundError\u001b[0m                         Traceback (most recent call last)",
      "\u001b[1;32m<ipython-input-48-ce1b60557b6a>\u001b[0m in \u001b[0;36m<module>\u001b[1;34m\u001b[0m\n\u001b[0;32m      1\u001b[0m \u001b[1;31m# ora la usiamo per ottenere il trainset e il testset:\u001b[0m\u001b[1;33m\u001b[0m\u001b[1;33m\u001b[0m\u001b[1;33m\u001b[0m\u001b[0m\n\u001b[1;32m----> 2\u001b[1;33m \u001b[0mX_train\u001b[0m\u001b[1;33m,\u001b[0m \u001b[0mX_test\u001b[0m\u001b[1;33m,\u001b[0m \u001b[0mY_train\u001b[0m\u001b[1;33m,\u001b[0m \u001b[0mY_test\u001b[0m \u001b[1;33m=\u001b[0m \u001b[0mload_mnist\u001b[0m\u001b[1;33m(\u001b[0m\u001b[0mpath\u001b[0m\u001b[1;33m=\u001b[0m\u001b[1;34m\"MNIST\"\u001b[0m\u001b[1;33m)\u001b[0m\u001b[1;33m\u001b[0m\u001b[1;33m\u001b[0m\u001b[0m\n\u001b[0m",
      "\u001b[1;32m<ipython-input-45-bc40e520496a>\u001b[0m in \u001b[0;36mload_mnist\u001b[1;34m(path)\u001b[0m\n\u001b[0;32m     22\u001b[0m     \u001b[1;32mfor\u001b[0m \u001b[0mpath\u001b[0m \u001b[1;32min\u001b[0m \u001b[0mzip\u001b[0m\u001b[1;33m(\u001b[0m\u001b[0mlabels_path\u001b[0m\u001b[1;33m,\u001b[0m \u001b[0mimages_path\u001b[0m\u001b[1;33m)\u001b[0m\u001b[1;33m:\u001b[0m\u001b[1;33m\u001b[0m\u001b[1;33m\u001b[0m\u001b[0m\n\u001b[0;32m     23\u001b[0m \u001b[1;33m\u001b[0m\u001b[0m\n\u001b[1;32m---> 24\u001b[1;33m         \u001b[1;32mwith\u001b[0m \u001b[0mopen\u001b[0m\u001b[1;33m(\u001b[0m\u001b[0mpath\u001b[0m\u001b[1;33m[\u001b[0m\u001b[1;36m0\u001b[0m\u001b[1;33m]\u001b[0m\u001b[1;33m,\u001b[0m\u001b[1;34m'rb'\u001b[0m\u001b[1;33m)\u001b[0m \u001b[1;32mas\u001b[0m \u001b[0mlbpath\u001b[0m\u001b[1;33m:\u001b[0m\u001b[1;33m\u001b[0m\u001b[1;33m\u001b[0m\u001b[0m\n\u001b[0m\u001b[0;32m     25\u001b[0m             \u001b[0mmagic\u001b[0m\u001b[1;33m,\u001b[0m \u001b[0mn\u001b[0m \u001b[1;33m=\u001b[0m \u001b[0mstruct\u001b[0m\u001b[1;33m.\u001b[0m\u001b[0munpack\u001b[0m\u001b[1;33m(\u001b[0m\u001b[1;34m'>II'\u001b[0m\u001b[1;33m,\u001b[0m \u001b[0mlbpath\u001b[0m\u001b[1;33m.\u001b[0m\u001b[0mread\u001b[0m\u001b[1;33m(\u001b[0m\u001b[1;36m8\u001b[0m\u001b[1;33m)\u001b[0m\u001b[1;33m)\u001b[0m\u001b[1;33m\u001b[0m\u001b[1;33m\u001b[0m\u001b[0m\n\u001b[0;32m     26\u001b[0m             \u001b[0mlb\u001b[0m \u001b[1;33m=\u001b[0m \u001b[0mnp\u001b[0m\u001b[1;33m.\u001b[0m\u001b[0mfromfile\u001b[0m\u001b[1;33m(\u001b[0m\u001b[0mlbpath\u001b[0m\u001b[1;33m,\u001b[0m \u001b[0mdtype\u001b[0m\u001b[1;33m=\u001b[0m\u001b[0mnp\u001b[0m\u001b[1;33m.\u001b[0m\u001b[0muint8\u001b[0m\u001b[1;33m)\u001b[0m\u001b[1;33m\u001b[0m\u001b[1;33m\u001b[0m\u001b[0m\n",
      "\u001b[1;31mFileNotFoundError\u001b[0m: [Errno 2] No such file or directory: 'MNIST\\\\train-labels-idx1-ubyte'"
     ]
    }
   ],
   "source": [
    "# ora la usiamo per ottenere il trainset e il testset:\n",
    "X_train, X_test, Y_train, Y_test = load_mnist(path=\"MNIST\")"
   ]
  },
  {
   "cell_type": "markdown",
   "metadata": {},
   "source": [
    "#### Non riesco ad andare avanti...penso che il problema sia legato alle directory dove stanno i file e i moduli che devo richiamare...\n",
    "#### boh..."
   ]
  }
 ],
 "metadata": {
  "kernelspec": {
   "display_name": "Python 3",
   "language": "python",
   "name": "python3"
  },
  "language_info": {
   "codemirror_mode": {
    "name": "ipython",
    "version": 3
   },
   "file_extension": ".py",
   "mimetype": "text/x-python",
   "name": "python",
   "nbconvert_exporter": "python",
   "pygments_lexer": "ipython3",
   "version": "3.7.4"
  }
 },
 "nbformat": 4,
 "nbformat_minor": 2
}
